





!pip install tensorflow==2.19.0 opencv-python mediapipe scikit-learn matplotlib





import cv2
import os
import random
import numpy as np
from matplotlib import pyplot as plt


#import tensorflow dependencies
from tensorflow.keras.models import Model
from tensorflow.keras.layers import Layer, Conv2D, Dense, MaxPooling2D, Input, Flatten
import tensorflow as tf
