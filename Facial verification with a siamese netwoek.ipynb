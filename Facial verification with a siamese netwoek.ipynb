{
 "cells": [
  {
   "cell_type": "markdown",
   "id": "1208e782-fcb4-4ca1-b711-cf54f3e32cf7",
   "metadata": {},
   "source": [
    "1.Setup"
   ]
  },
  {
   "cell_type": "markdown",
   "id": "7d431d32-2349-4a11-8712-c1cf0feab80a",
   "metadata": {},
   "source": [
    "1.1 Install dependencies"
   ]
  },
  {
   "cell_type": "code",
   "execution_count": 3,
   "id": "0c059df0-8531-44a3-8d95-ed32233d5220",
   "metadata": {},
   "outputs": [
    {
     "name": "stdout",
     "output_type": "stream",
     "text": [
      "Requirement already satisfied: tensorflow==2.19.0 in c:\\users\\lnipu\\anaconda3\\lib\\site-packages (2.19.0)\n",
      "Requirement already satisfied: opencv-python in c:\\users\\lnipu\\anaconda3\\lib\\site-packages (4.11.0.86)\n",
      "Requirement already satisfied: mediapipe in c:\\users\\lnipu\\anaconda3\\lib\\site-packages (0.10.21)\n",
      "Requirement already satisfied: scikit-learn in c:\\users\\lnipu\\anaconda3\\lib\\site-packages (1.5.1)\n",
      "Requirement already satisfied: matplotlib in c:\\users\\lnipu\\anaconda3\\lib\\site-packages (3.9.2)\n",
      "Requirement already satisfied: absl-py>=1.0.0 in c:\\users\\lnipu\\anaconda3\\lib\\site-packages (from tensorflow==2.19.0) (2.2.2)\n",
      "Requirement already satisfied: astunparse>=1.6.0 in c:\\users\\lnipu\\anaconda3\\lib\\site-packages (from tensorflow==2.19.0) (1.6.3)\n",
      "Requirement already satisfied: flatbuffers>=24.3.25 in c:\\users\\lnipu\\anaconda3\\lib\\site-packages (from tensorflow==2.19.0) (25.2.10)\n",
      "Requirement already satisfied: gast!=0.5.0,!=0.5.1,!=0.5.2,>=0.2.1 in c:\\users\\lnipu\\anaconda3\\lib\\site-packages (from tensorflow==2.19.0) (0.6.0)\n",
      "Requirement already satisfied: google-pasta>=0.1.1 in c:\\users\\lnipu\\anaconda3\\lib\\site-packages (from tensorflow==2.19.0) (0.2.0)\n",
      "Requirement already satisfied: libclang>=13.0.0 in c:\\users\\lnipu\\anaconda3\\lib\\site-packages (from tensorflow==2.19.0) (18.1.1)\n",
      "Requirement already satisfied: opt-einsum>=2.3.2 in c:\\users\\lnipu\\anaconda3\\lib\\site-packages (from tensorflow==2.19.0) (3.4.0)\n",
      "Requirement already satisfied: packaging in c:\\users\\lnipu\\anaconda3\\lib\\site-packages (from tensorflow==2.19.0) (24.1)\n",
      "Requirement already satisfied: protobuf!=4.21.0,!=4.21.1,!=4.21.2,!=4.21.3,!=4.21.4,!=4.21.5,<6.0.0dev,>=3.20.3 in c:\\users\\lnipu\\anaconda3\\lib\\site-packages (from tensorflow==2.19.0) (4.25.3)\n",
      "Requirement already satisfied: requests<3,>=2.21.0 in c:\\users\\lnipu\\anaconda3\\lib\\site-packages (from tensorflow==2.19.0) (2.32.3)\n",
      "Requirement already satisfied: setuptools in c:\\users\\lnipu\\anaconda3\\lib\\site-packages (from tensorflow==2.19.0) (75.1.0)\n",
      "Requirement already satisfied: six>=1.12.0 in c:\\users\\lnipu\\anaconda3\\lib\\site-packages (from tensorflow==2.19.0) (1.16.0)\n",
      "Requirement already satisfied: termcolor>=1.1.0 in c:\\users\\lnipu\\anaconda3\\lib\\site-packages (from tensorflow==2.19.0) (3.1.0)\n",
      "Requirement already satisfied: typing-extensions>=3.6.6 in c:\\users\\lnipu\\anaconda3\\lib\\site-packages (from tensorflow==2.19.0) (4.11.0)\n",
      "Requirement already satisfied: wrapt>=1.11.0 in c:\\users\\lnipu\\anaconda3\\lib\\site-packages (from tensorflow==2.19.0) (1.14.1)\n",
      "Requirement already satisfied: grpcio<2.0,>=1.24.3 in c:\\users\\lnipu\\anaconda3\\lib\\site-packages (from tensorflow==2.19.0) (1.71.0)\n",
      "Requirement already satisfied: tensorboard~=2.19.0 in c:\\users\\lnipu\\anaconda3\\lib\\site-packages (from tensorflow==2.19.0) (2.19.0)\n",
      "Requirement already satisfied: keras>=3.5.0 in c:\\users\\lnipu\\anaconda3\\lib\\site-packages (from tensorflow==2.19.0) (3.9.2)\n",
      "Requirement already satisfied: numpy<2.2.0,>=1.26.0 in c:\\users\\lnipu\\anaconda3\\lib\\site-packages (from tensorflow==2.19.0) (1.26.4)\n",
      "Requirement already satisfied: h5py>=3.11.0 in c:\\users\\lnipu\\anaconda3\\lib\\site-packages (from tensorflow==2.19.0) (3.11.0)\n",
      "Requirement already satisfied: ml-dtypes<1.0.0,>=0.5.1 in c:\\users\\lnipu\\anaconda3\\lib\\site-packages (from tensorflow==2.19.0) (0.5.1)\n",
      "Requirement already satisfied: attrs>=19.1.0 in c:\\users\\lnipu\\anaconda3\\lib\\site-packages (from mediapipe) (23.1.0)\n",
      "Requirement already satisfied: jax in c:\\users\\lnipu\\anaconda3\\lib\\site-packages (from mediapipe) (0.6.2)\n",
      "Requirement already satisfied: jaxlib in c:\\users\\lnipu\\anaconda3\\lib\\site-packages (from mediapipe) (0.6.2)\n",
      "Requirement already satisfied: opencv-contrib-python in c:\\users\\lnipu\\anaconda3\\lib\\site-packages (from mediapipe) (4.11.0.86)\n",
      "Requirement already satisfied: sounddevice>=0.4.4 in c:\\users\\lnipu\\anaconda3\\lib\\site-packages (from mediapipe) (0.5.2)\n",
      "Requirement already satisfied: sentencepiece in c:\\users\\lnipu\\anaconda3\\lib\\site-packages (from mediapipe) (0.2.0)\n",
      "Requirement already satisfied: scipy>=1.6.0 in c:\\users\\lnipu\\anaconda3\\lib\\site-packages (from scikit-learn) (1.13.1)\n",
      "Requirement already satisfied: joblib>=1.2.0 in c:\\users\\lnipu\\anaconda3\\lib\\site-packages (from scikit-learn) (1.4.2)\n",
      "Requirement already satisfied: threadpoolctl>=3.1.0 in c:\\users\\lnipu\\anaconda3\\lib\\site-packages (from scikit-learn) (3.5.0)\n",
      "Requirement already satisfied: contourpy>=1.0.1 in c:\\users\\lnipu\\anaconda3\\lib\\site-packages (from matplotlib) (1.2.0)\n",
      "Requirement already satisfied: cycler>=0.10 in c:\\users\\lnipu\\anaconda3\\lib\\site-packages (from matplotlib) (0.11.0)\n",
      "Requirement already satisfied: fonttools>=4.22.0 in c:\\users\\lnipu\\anaconda3\\lib\\site-packages (from matplotlib) (4.51.0)\n",
      "Requirement already satisfied: kiwisolver>=1.3.1 in c:\\users\\lnipu\\anaconda3\\lib\\site-packages (from matplotlib) (1.4.4)\n",
      "Requirement already satisfied: pillow>=8 in c:\\users\\lnipu\\anaconda3\\lib\\site-packages (from matplotlib) (10.4.0)\n",
      "Requirement already satisfied: pyparsing>=2.3.1 in c:\\users\\lnipu\\anaconda3\\lib\\site-packages (from matplotlib) (3.1.2)\n",
      "Requirement already satisfied: python-dateutil>=2.7 in c:\\users\\lnipu\\anaconda3\\lib\\site-packages (from matplotlib) (2.9.0.post0)\n",
      "Requirement already satisfied: wheel<1.0,>=0.23.0 in c:\\users\\lnipu\\anaconda3\\lib\\site-packages (from astunparse>=1.6.0->tensorflow==2.19.0) (0.44.0)\n",
      "Requirement already satisfied: rich in c:\\users\\lnipu\\anaconda3\\lib\\site-packages (from keras>=3.5.0->tensorflow==2.19.0) (13.7.1)\n",
      "Requirement already satisfied: namex in c:\\users\\lnipu\\anaconda3\\lib\\site-packages (from keras>=3.5.0->tensorflow==2.19.0) (0.0.9)\n",
      "Requirement already satisfied: optree in c:\\users\\lnipu\\anaconda3\\lib\\site-packages (from keras>=3.5.0->tensorflow==2.19.0) (0.15.0)\n",
      "Requirement already satisfied: charset-normalizer<4,>=2 in c:\\users\\lnipu\\anaconda3\\lib\\site-packages (from requests<3,>=2.21.0->tensorflow==2.19.0) (3.3.2)\n",
      "Requirement already satisfied: idna<4,>=2.5 in c:\\users\\lnipu\\anaconda3\\lib\\site-packages (from requests<3,>=2.21.0->tensorflow==2.19.0) (3.7)\n",
      "Requirement already satisfied: urllib3<3,>=1.21.1 in c:\\users\\lnipu\\anaconda3\\lib\\site-packages (from requests<3,>=2.21.0->tensorflow==2.19.0) (2.2.3)\n",
      "Requirement already satisfied: certifi>=2017.4.17 in c:\\users\\lnipu\\anaconda3\\lib\\site-packages (from requests<3,>=2.21.0->tensorflow==2.19.0) (2025.6.15)\n",
      "Requirement already satisfied: CFFI>=1.0 in c:\\users\\lnipu\\anaconda3\\lib\\site-packages (from sounddevice>=0.4.4->mediapipe) (1.17.1)\n",
      "Requirement already satisfied: markdown>=2.6.8 in c:\\users\\lnipu\\anaconda3\\lib\\site-packages (from tensorboard~=2.19.0->tensorflow==2.19.0) (3.4.1)\n",
      "Requirement already satisfied: tensorboard-data-server<0.8.0,>=0.7.0 in c:\\users\\lnipu\\anaconda3\\lib\\site-packages (from tensorboard~=2.19.0->tensorflow==2.19.0) (0.7.2)\n",
      "Requirement already satisfied: werkzeug>=1.0.1 in c:\\users\\lnipu\\anaconda3\\lib\\site-packages (from tensorboard~=2.19.0->tensorflow==2.19.0) (3.0.3)\n",
      "Requirement already satisfied: pycparser in c:\\users\\lnipu\\anaconda3\\lib\\site-packages (from CFFI>=1.0->sounddevice>=0.4.4->mediapipe) (2.21)\n",
      "Requirement already satisfied: MarkupSafe>=2.1.1 in c:\\users\\lnipu\\anaconda3\\lib\\site-packages (from werkzeug>=1.0.1->tensorboard~=2.19.0->tensorflow==2.19.0) (2.1.3)\n",
      "Requirement already satisfied: markdown-it-py>=2.2.0 in c:\\users\\lnipu\\anaconda3\\lib\\site-packages (from rich->keras>=3.5.0->tensorflow==2.19.0) (2.2.0)\n",
      "Requirement already satisfied: pygments<3.0.0,>=2.13.0 in c:\\users\\lnipu\\anaconda3\\lib\\site-packages (from rich->keras>=3.5.0->tensorflow==2.19.0) (2.15.1)\n",
      "Requirement already satisfied: mdurl~=0.1 in c:\\users\\lnipu\\anaconda3\\lib\\site-packages (from markdown-it-py>=2.2.0->rich->keras>=3.5.0->tensorflow==2.19.0) (0.1.0)\n"
     ]
    }
   ],
   "source": [
    "!pip install tensorflow==2.19.0 opencv-python mediapipe scikit-learn matplotlib"
   ]
  },
  {
   "cell_type": "code",
   "execution_count": null,
   "id": "3c12ba69-5c63-483d-a263-3ccafaa86897",
   "metadata": {},
   "outputs": [],
   "source": []
  }
 ],
 "metadata": {
  "kernelspec": {
   "display_name": "Python [conda env:base] *",
   "language": "python",
   "name": "conda-base-py"
  },
  "language_info": {
   "codemirror_mode": {
    "name": "ipython",
    "version": 3
   },
   "file_extension": ".py",
   "mimetype": "text/x-python",
   "name": "python",
   "nbconvert_exporter": "python",
   "pygments_lexer": "ipython3",
   "version": "3.12.3"
  }
 },
 "nbformat": 4,
 "nbformat_minor": 5
}
