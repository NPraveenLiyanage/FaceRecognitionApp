{
 "cells": [
  {
   "cell_type": "markdown",
   "id": "1208e782-fcb4-4ca1-b711-cf54f3e32cf7",
   "metadata": {},
   "source": [
    "## 1.Setup"
   ]
  },
  {
   "cell_type": "markdown",
   "id": "7d431d32-2349-4a11-8712-c1cf0feab80a",
   "metadata": {},
   "source": [
    "## 1.1 Install dependencies"
   ]
  },
  {
   "cell_type": "code",
   "execution_count": 15,
   "id": "0c059df0-8531-44a3-8d95-ed32233d5220",
   "metadata": {
    "collapsed": true,
    "jupyter": {
     "outputs_hidden": true
    },
    "scrolled": true
   },
   "outputs": [
    {
     "name": "stdout",
     "output_type": "stream",
     "text": [
      "Requirement already satisfied: tensorflow==2.19.0 in c:\\users\\lnipu\\anaconda3\\lib\\site-packages (2.19.0)\n",
      "Requirement already satisfied: opencv-python in c:\\users\\lnipu\\anaconda3\\lib\\site-packages (4.11.0.86)\n",
      "Requirement already satisfied: mediapipe in c:\\users\\lnipu\\anaconda3\\lib\\site-packages (0.10.21)\n",
      "Requirement already satisfied: scikit-learn in c:\\users\\lnipu\\anaconda3\\lib\\site-packages (1.5.1)\n",
      "Requirement already satisfied: matplotlib in c:\\users\\lnipu\\anaconda3\\lib\\site-packages (3.9.2)\n",
      "Requirement already satisfied: absl-py>=1.0.0 in c:\\users\\lnipu\\anaconda3\\lib\\site-packages (from tensorflow==2.19.0) (2.2.2)\n",
      "Requirement already satisfied: astunparse>=1.6.0 in c:\\users\\lnipu\\anaconda3\\lib\\site-packages (from tensorflow==2.19.0) (1.6.3)\n",
      "Requirement already satisfied: flatbuffers>=24.3.25 in c:\\users\\lnipu\\anaconda3\\lib\\site-packages (from tensorflow==2.19.0) (25.2.10)\n",
      "Requirement already satisfied: gast!=0.5.0,!=0.5.1,!=0.5.2,>=0.2.1 in c:\\users\\lnipu\\anaconda3\\lib\\site-packages (from tensorflow==2.19.0) (0.6.0)\n",
      "Requirement already satisfied: google-pasta>=0.1.1 in c:\\users\\lnipu\\anaconda3\\lib\\site-packages (from tensorflow==2.19.0) (0.2.0)\n",
      "Requirement already satisfied: libclang>=13.0.0 in c:\\users\\lnipu\\anaconda3\\lib\\site-packages (from tensorflow==2.19.0) (18.1.1)\n",
      "Requirement already satisfied: opt-einsum>=2.3.2 in c:\\users\\lnipu\\anaconda3\\lib\\site-packages (from tensorflow==2.19.0) (3.4.0)\n",
      "Requirement already satisfied: packaging in c:\\users\\lnipu\\anaconda3\\lib\\site-packages (from tensorflow==2.19.0) (24.1)\n",
      "Requirement already satisfied: protobuf!=4.21.0,!=4.21.1,!=4.21.2,!=4.21.3,!=4.21.4,!=4.21.5,<6.0.0dev,>=3.20.3 in c:\\users\\lnipu\\anaconda3\\lib\\site-packages (from tensorflow==2.19.0) (4.25.3)\n",
      "Requirement already satisfied: requests<3,>=2.21.0 in c:\\users\\lnipu\\anaconda3\\lib\\site-packages (from tensorflow==2.19.0) (2.32.3)\n",
      "Requirement already satisfied: setuptools in c:\\users\\lnipu\\anaconda3\\lib\\site-packages (from tensorflow==2.19.0) (75.1.0)\n",
      "Requirement already satisfied: six>=1.12.0 in c:\\users\\lnipu\\anaconda3\\lib\\site-packages (from tensorflow==2.19.0) (1.16.0)\n",
      "Requirement already satisfied: termcolor>=1.1.0 in c:\\users\\lnipu\\anaconda3\\lib\\site-packages (from tensorflow==2.19.0) (3.1.0)\n",
      "Requirement already satisfied: typing-extensions>=3.6.6 in c:\\users\\lnipu\\anaconda3\\lib\\site-packages (from tensorflow==2.19.0) (4.11.0)\n",
      "Requirement already satisfied: wrapt>=1.11.0 in c:\\users\\lnipu\\anaconda3\\lib\\site-packages (from tensorflow==2.19.0) (1.14.1)\n",
      "Requirement already satisfied: grpcio<2.0,>=1.24.3 in c:\\users\\lnipu\\anaconda3\\lib\\site-packages (from tensorflow==2.19.0) (1.71.0)\n",
      "Requirement already satisfied: tensorboard~=2.19.0 in c:\\users\\lnipu\\anaconda3\\lib\\site-packages (from tensorflow==2.19.0) (2.19.0)\n",
      "Requirement already satisfied: keras>=3.5.0 in c:\\users\\lnipu\\anaconda3\\lib\\site-packages (from tensorflow==2.19.0) (3.9.2)\n",
      "Requirement already satisfied: numpy<2.2.0,>=1.26.0 in c:\\users\\lnipu\\anaconda3\\lib\\site-packages (from tensorflow==2.19.0) (1.26.4)\n",
      "Requirement already satisfied: h5py>=3.11.0 in c:\\users\\lnipu\\anaconda3\\lib\\site-packages (from tensorflow==2.19.0) (3.11.0)\n",
      "Requirement already satisfied: ml-dtypes<1.0.0,>=0.5.1 in c:\\users\\lnipu\\anaconda3\\lib\\site-packages (from tensorflow==2.19.0) (0.5.1)\n",
      "Requirement already satisfied: attrs>=19.1.0 in c:\\users\\lnipu\\anaconda3\\lib\\site-packages (from mediapipe) (23.1.0)\n",
      "Requirement already satisfied: jax in c:\\users\\lnipu\\anaconda3\\lib\\site-packages (from mediapipe) (0.6.2)\n",
      "Requirement already satisfied: jaxlib in c:\\users\\lnipu\\anaconda3\\lib\\site-packages (from mediapipe) (0.6.2)\n",
      "Requirement already satisfied: opencv-contrib-python in c:\\users\\lnipu\\anaconda3\\lib\\site-packages (from mediapipe) (4.11.0.86)\n",
      "Requirement already satisfied: sounddevice>=0.4.4 in c:\\users\\lnipu\\anaconda3\\lib\\site-packages (from mediapipe) (0.5.2)\n",
      "Requirement already satisfied: sentencepiece in c:\\users\\lnipu\\anaconda3\\lib\\site-packages (from mediapipe) (0.2.0)\n",
      "Requirement already satisfied: scipy>=1.6.0 in c:\\users\\lnipu\\anaconda3\\lib\\site-packages (from scikit-learn) (1.13.1)\n",
      "Requirement already satisfied: joblib>=1.2.0 in c:\\users\\lnipu\\anaconda3\\lib\\site-packages (from scikit-learn) (1.4.2)\n",
      "Requirement already satisfied: threadpoolctl>=3.1.0 in c:\\users\\lnipu\\anaconda3\\lib\\site-packages (from scikit-learn) (3.5.0)\n",
      "Requirement already satisfied: contourpy>=1.0.1 in c:\\users\\lnipu\\anaconda3\\lib\\site-packages (from matplotlib) (1.2.0)\n",
      "Requirement already satisfied: cycler>=0.10 in c:\\users\\lnipu\\anaconda3\\lib\\site-packages (from matplotlib) (0.11.0)\n",
      "Requirement already satisfied: fonttools>=4.22.0 in c:\\users\\lnipu\\anaconda3\\lib\\site-packages (from matplotlib) (4.51.0)\n",
      "Requirement already satisfied: kiwisolver>=1.3.1 in c:\\users\\lnipu\\anaconda3\\lib\\site-packages (from matplotlib) (1.4.4)\n",
      "Requirement already satisfied: pillow>=8 in c:\\users\\lnipu\\anaconda3\\lib\\site-packages (from matplotlib) (10.4.0)\n",
      "Requirement already satisfied: pyparsing>=2.3.1 in c:\\users\\lnipu\\anaconda3\\lib\\site-packages (from matplotlib) (3.1.2)\n",
      "Requirement already satisfied: python-dateutil>=2.7 in c:\\users\\lnipu\\anaconda3\\lib\\site-packages (from matplotlib) (2.9.0.post0)\n",
      "Requirement already satisfied: wheel<1.0,>=0.23.0 in c:\\users\\lnipu\\anaconda3\\lib\\site-packages (from astunparse>=1.6.0->tensorflow==2.19.0) (0.44.0)\n",
      "Requirement already satisfied: rich in c:\\users\\lnipu\\anaconda3\\lib\\site-packages (from keras>=3.5.0->tensorflow==2.19.0) (13.7.1)\n",
      "Requirement already satisfied: namex in c:\\users\\lnipu\\anaconda3\\lib\\site-packages (from keras>=3.5.0->tensorflow==2.19.0) (0.0.9)\n",
      "Requirement already satisfied: optree in c:\\users\\lnipu\\anaconda3\\lib\\site-packages (from keras>=3.5.0->tensorflow==2.19.0) (0.15.0)\n",
      "Requirement already satisfied: charset-normalizer<4,>=2 in c:\\users\\lnipu\\anaconda3\\lib\\site-packages (from requests<3,>=2.21.0->tensorflow==2.19.0) (3.3.2)\n",
      "Requirement already satisfied: idna<4,>=2.5 in c:\\users\\lnipu\\anaconda3\\lib\\site-packages (from requests<3,>=2.21.0->tensorflow==2.19.0) (3.7)\n",
      "Requirement already satisfied: urllib3<3,>=1.21.1 in c:\\users\\lnipu\\anaconda3\\lib\\site-packages (from requests<3,>=2.21.0->tensorflow==2.19.0) (2.2.3)\n",
      "Requirement already satisfied: certifi>=2017.4.17 in c:\\users\\lnipu\\anaconda3\\lib\\site-packages (from requests<3,>=2.21.0->tensorflow==2.19.0) (2025.6.15)\n",
      "Requirement already satisfied: CFFI>=1.0 in c:\\users\\lnipu\\anaconda3\\lib\\site-packages (from sounddevice>=0.4.4->mediapipe) (1.17.1)\n",
      "Requirement already satisfied: markdown>=2.6.8 in c:\\users\\lnipu\\anaconda3\\lib\\site-packages (from tensorboard~=2.19.0->tensorflow==2.19.0) (3.4.1)\n",
      "Requirement already satisfied: tensorboard-data-server<0.8.0,>=0.7.0 in c:\\users\\lnipu\\anaconda3\\lib\\site-packages (from tensorboard~=2.19.0->tensorflow==2.19.0) (0.7.2)\n",
      "Requirement already satisfied: werkzeug>=1.0.1 in c:\\users\\lnipu\\anaconda3\\lib\\site-packages (from tensorboard~=2.19.0->tensorflow==2.19.0) (3.0.3)\n",
      "Requirement already satisfied: pycparser in c:\\users\\lnipu\\anaconda3\\lib\\site-packages (from CFFI>=1.0->sounddevice>=0.4.4->mediapipe) (2.21)\n",
      "Requirement already satisfied: MarkupSafe>=2.1.1 in c:\\users\\lnipu\\anaconda3\\lib\\site-packages (from werkzeug>=1.0.1->tensorboard~=2.19.0->tensorflow==2.19.0) (2.1.3)\n",
      "Requirement already satisfied: markdown-it-py>=2.2.0 in c:\\users\\lnipu\\anaconda3\\lib\\site-packages (from rich->keras>=3.5.0->tensorflow==2.19.0) (2.2.0)\n",
      "Requirement already satisfied: pygments<3.0.0,>=2.13.0 in c:\\users\\lnipu\\anaconda3\\lib\\site-packages (from rich->keras>=3.5.0->tensorflow==2.19.0) (2.15.1)\n",
      "Requirement already satisfied: mdurl~=0.1 in c:\\users\\lnipu\\anaconda3\\lib\\site-packages (from markdown-it-py>=2.2.0->rich->keras>=3.5.0->tensorflow==2.19.0) (0.1.0)\n"
     ]
    }
   ],
   "source": [
    "!pip install tensorflow==2.19.0 opencv-python mediapipe scikit-learn matplotlib"
   ]
  },
  {
   "cell_type": "markdown",
   "id": "96cbb56a-f91f-4017-a677-bb150152d62f",
   "metadata": {},
   "source": [
    "## 1.2 import dependencies"
   ]
  },
  {
   "cell_type": "code",
   "execution_count": 13,
   "id": "5331d358-9d79-4103-b538-dc47eb7ccbdc",
   "metadata": {},
   "outputs": [],
   "source": [
    "import cv2\n",
    "import os\n",
    "import shutil\n",
    "import random\n",
    "import numpy as np\n",
    "from matplotlib import pyplot as plt"
   ]
  },
  {
   "cell_type": "code",
   "execution_count": 4,
   "id": "a51d3a89-b2d9-4bc0-9134-4633b0c4f0d4",
   "metadata": {},
   "outputs": [],
   "source": [
    "#import tensorflow dependencies - Functional API\n",
    "from tensorflow.keras.models import Model\n",
    "from tensorflow.keras.layers import Layer, Conv2D, Dense, MaxPooling2D, Input, Flatten\n",
    "import tensorflow as tf"
   ]
  },
  {
   "cell_type": "markdown",
   "id": "aeefc2b7-54d2-44a5-b5eb-01280aec1446",
   "metadata": {},
   "source": [
    "## 1.3 Setup GPU growth"
   ]
  },
  {
   "cell_type": "code",
   "execution_count": 6,
   "id": "a94b2a33-0936-4c1a-99c1-87e02d4371c8",
   "metadata": {},
   "outputs": [],
   "source": [
    "#Avoid out of memo errors by setting GPU memo consumption growth\n",
    "gpus = tf.config.experimental.list_physical_devices('GPU')\n",
    "for gpu in gpus:\n",
    "    tf.config.experimental.set_memory_growth(gpu, True)"
   ]
  },
  {
   "cell_type": "code",
   "execution_count": 9,
   "id": "eae8de0b-1363-4f98-a7f5-9ed4d09f67a0",
   "metadata": {},
   "outputs": [
    {
     "data": {
      "text/plain": [
       "[]"
      ]
     },
     "execution_count": 9,
     "metadata": {},
     "output_type": "execute_result"
    }
   ],
   "source": [
    "gpus"
   ]
  },
  {
   "cell_type": "markdown",
   "id": "b60690f9-4567-4b56-8668-ba188eca7622",
   "metadata": {},
   "source": [
    "## 1.4 Create folder structure"
   ]
  },
  {
   "cell_type": "code",
   "execution_count": 17,
   "id": "300fad95-c202-4542-aff4-f20204f38525",
   "metadata": {},
   "outputs": [],
   "source": [
    "#setup paths\n",
    "PSO_PATH = os.path.join('data', 'positive')\n",
    "NEG_PATH = os.path.join('data', 'negative')\n",
    "ANC_PATH = os.path.join('data', 'anchor')"
   ]
  },
  {
   "cell_type": "code",
   "execution_count": 153,
   "id": "31a37540-8778-45d4-a6a5-9bb6d9ac2468",
   "metadata": {},
   "outputs": [
    {
     "ename": "FileExistsError",
     "evalue": "[WinError 183] Cannot create a file when that file already exists: 'data\\\\positive'",
     "output_type": "error",
     "traceback": [
      "\u001b[1;31m---------------------------------------------------------------------------\u001b[0m",
      "\u001b[1;31mFileExistsError\u001b[0m                           Traceback (most recent call last)",
      "Cell \u001b[1;32mIn[153], line 2\u001b[0m\n\u001b[0;32m      1\u001b[0m \u001b[38;5;66;03m#make the directories\u001b[39;00m\n\u001b[1;32m----> 2\u001b[0m os\u001b[38;5;241m.\u001b[39mmakedirs(PSO_PATH)\n\u001b[0;32m      3\u001b[0m os\u001b[38;5;241m.\u001b[39mmakedirs(NEG_PATH)\n\u001b[0;32m      4\u001b[0m os\u001b[38;5;241m.\u001b[39mmakedirs(ANC_PATH)\n",
      "File \u001b[1;32m<frozen os>:225\u001b[0m, in \u001b[0;36mmakedirs\u001b[1;34m(name, mode, exist_ok)\u001b[0m\n",
      "\u001b[1;31mFileExistsError\u001b[0m: [WinError 183] Cannot create a file when that file already exists: 'data\\\\positive'"
     ]
    }
   ],
   "source": [
    "#make the directories\n",
    "os.makedirs(PSO_PATH)\n",
    "os.makedirs(NEG_PATH)\n",
    "os.makedirs(ANC_PATH)"
   ]
  },
  {
   "cell_type": "markdown",
   "id": "85aaa907-ac15-4916-9faf-2e8a86dfec00",
   "metadata": {},
   "source": [
    "## 2. Collect positives and anchors"
   ]
  },
  {
   "cell_type": "markdown",
   "id": "2ef7210d-7393-42cb-9bd1-577fe970eae6",
   "metadata": {},
   "source": [
    "## 2.1 untar labelled faces in the wild dataset"
   ]
  },
  {
   "cell_type": "code",
   "execution_count": 98,
   "id": "2c1d3819-17f2-41e3-9120-4181ccf16590",
   "metadata": {},
   "outputs": [],
   "source": [
    "#Uncompress zip labelled faces in the wild\n",
    "!tar -xf lfw.zip"
   ]
  },
  {
   "cell_type": "code",
   "execution_count": 19,
   "id": "9b440ccc-26d3-4381-aada-e6f3fda9af1b",
   "metadata": {},
   "outputs": [
    {
     "ename": "FileNotFoundError",
     "evalue": "[WinError 3] The system cannot find the path specified: 'lfw'",
     "output_type": "error",
     "traceback": [
      "\u001b[1;31m---------------------------------------------------------------------------\u001b[0m",
      "\u001b[1;31mFileNotFoundError\u001b[0m                         Traceback (most recent call last)",
      "Cell \u001b[1;32mIn[19], line 2\u001b[0m\n\u001b[0;32m      1\u001b[0m \u001b[38;5;66;03m#Move LFW images to the following repository data/negative\u001b[39;00m\n\u001b[1;32m----> 2\u001b[0m \u001b[38;5;28;01mfor\u001b[39;00m directory \u001b[38;5;129;01min\u001b[39;00m os\u001b[38;5;241m.\u001b[39mlistdir(\u001b[38;5;124m'\u001b[39m\u001b[38;5;124mlfw\u001b[39m\u001b[38;5;124m'\u001b[39m):\n\u001b[0;32m      3\u001b[0m     \u001b[38;5;28;01mfor\u001b[39;00m file \u001b[38;5;129;01min\u001b[39;00m os\u001b[38;5;241m.\u001b[39mlistdir(os\u001b[38;5;241m.\u001b[39mpath\u001b[38;5;241m.\u001b[39mjoin(\u001b[38;5;124m'\u001b[39m\u001b[38;5;124mlfw\u001b[39m\u001b[38;5;124m'\u001b[39m, directory)):\n\u001b[0;32m      4\u001b[0m         EX_PATH \u001b[38;5;241m=\u001b[39m os\u001b[38;5;241m.\u001b[39mpath\u001b[38;5;241m.\u001b[39mjoin(\u001b[38;5;124m'\u001b[39m\u001b[38;5;124mlfw\u001b[39m\u001b[38;5;124m'\u001b[39m, directory, file)\n",
      "\u001b[1;31mFileNotFoundError\u001b[0m: [WinError 3] The system cannot find the path specified: 'lfw'"
     ]
    }
   ],
   "source": [
    "#Move LFW images to the following repository data/negative\n",
    "for directory in os.listdir('lfw'):\n",
    "    for file in os.listdir(os.path.join('lfw', directory)):\n",
    "        EX_PATH = os.path.join('lfw', directory, file)\n",
    "        NEW_PATH = os.path.join(NEG_PATH, file)\n",
    "        os.replace(EX_PATH, NEW_PATH)"
   ]
  },
  {
   "cell_type": "code",
   "execution_count": 105,
   "id": "8ed57105-2924-4757-8923-55b263febdba",
   "metadata": {
    "collapsed": true,
    "jupyter": {
     "outputs_hidden": true
    }
   },
   "outputs": [
    {
     "data": {
      "text/plain": [
       "['Aaron_Eckhart',\n",
       " 'Aaron_Guiel',\n",
       " 'Aaron_Patterson',\n",
       " 'Aaron_Peirsol',\n",
       " 'Aaron_Pena',\n",
       " 'Aaron_Sorkin',\n",
       " 'Aaron_Tippin',\n",
       " 'Abbas_Kiarostami',\n",
       " 'Abba_Eban',\n",
       " 'Abdel_Aziz_Al-Hakim',\n",
       " 'Abdel_Madi_Shabneh',\n",
       " 'Abdel_Nasser_Assidi',\n",
       " 'Abdoulaye_Wade',\n",
       " 'Abdulaziz_Kamilov',\n",
       " 'Abdullah',\n",
       " 'Abdullah_Ahmad_Badawi',\n",
       " 'Abdullah_al-Attiyah',\n",
       " 'Abdullah_Gul',\n",
       " 'Abdullah_Nasseef',\n",
       " 'Abdullatif_Sener',\n",
       " 'Abdul_Majeed_Shobokshi',\n",
       " 'Abdul_Rahman',\n",
       " 'Abel_Aguilar',\n",
       " 'Abel_Pacheco',\n",
       " 'Abid_Hamid_Mahmud_Al-Tikriti',\n",
       " 'Abner_Martinez',\n",
       " 'Abraham_Foxman',\n",
       " 'Aby_Har-Even',\n",
       " 'Adam_Ant',\n",
       " 'Adam_Freier',\n",
       " 'Adam_Herbert',\n",
       " 'Adam_Kennedy',\n",
       " 'Adam_Mair',\n",
       " 'Adam_Rich',\n",
       " 'Adam_Sandler',\n",
       " 'Adam_Scott',\n",
       " 'Adelina_Avila',\n",
       " 'Adel_Al-Jubeir',\n",
       " 'Adisai_Bodharamik',\n",
       " 'Adolfo_Aguilar_Zinser',\n",
       " 'Adolfo_Rodriguez_Saa',\n",
       " 'Adoor_Gopalakarishnan',\n",
       " 'Adriana_Lima',\n",
       " 'Adriana_Perez_Navarro',\n",
       " 'Adrianna_Zuzic',\n",
       " 'Adrian_Annus',\n",
       " 'Adrian_Fernandez',\n",
       " 'Adrian_McPherson',\n",
       " 'Adrian_Murrell',\n",
       " 'Adrian_Nastase',\n",
       " 'Adrien_Brody',\n",
       " 'Afton_Smith',\n",
       " 'Agbani_Darego',\n",
       " 'Agnelo_Queiroz',\n",
       " 'Agnes_Bruckner',\n",
       " 'Ahmad_Jbarah',\n",
       " 'Ahmad_Masood',\n",
       " 'Ahmed_Ahmed',\n",
       " 'Ahmed_Chalabi',\n",
       " 'Ahmed_Ghazi',\n",
       " 'Ahmed_Ibrahim_Bilal',\n",
       " 'Ahmed_Lopez',\n",
       " 'Ahmed_Qureia',\n",
       " 'Ahmet_Demir',\n",
       " 'Ahmet_Necdet_Sezer',\n",
       " 'Aicha_El_Ouafi',\n",
       " 'Aidan_Quinn',\n",
       " 'Aileen_Riggin_Soule',\n",
       " 'Ainsworth_Dyer',\n",
       " 'Ain_Seppik',\n",
       " 'Aishwarya_Rai',\n",
       " 'Aitor_Gonzalez',\n",
       " 'Aiysha_Smith',\n",
       " 'Ai_Sugiyama',\n",
       " 'Ajit_Agarkar',\n",
       " 'AJ_Cook',\n",
       " 'AJ_Lamas',\n",
       " 'Akbar_Al_Baker',\n",
       " 'Akbar_Hashemi_Rafsanjani',\n",
       " 'Akhmed_Zakayev',\n",
       " 'Akiko_Morigami',\n",
       " 'Akmal_Taher',\n",
       " 'Alain_Cervantes',\n",
       " 'Alain_Ducasse',\n",
       " 'Alanis_Morissette',\n",
       " 'Alanna_Ubach',\n",
       " 'Alan_Ball',\n",
       " 'Alan_Dershowitz',\n",
       " 'Alan_Dreher',\n",
       " 'Alan_Greenspan',\n",
       " 'Alan_Greer',\n",
       " 'Alan_Jackson',\n",
       " 'Alan_Mulally',\n",
       " 'Alan_Stonecipher',\n",
       " 'Alan_Tang_Kwong-wing',\n",
       " 'Alan_Trammell',\n",
       " 'Alan_Zemaitis',\n",
       " 'Alastair_Campbell',\n",
       " 'Alastair_Johnston',\n",
       " 'Albaro_Recoba',\n",
       " 'Alberta_Lee',\n",
       " 'Alberto_Acosta',\n",
       " 'Alberto_Fujimori',\n",
       " 'Alberto_Gonzales',\n",
       " 'Alberto_Ruiz_Gallardon',\n",
       " 'Alberto_Sordi',\n",
       " 'Albert_Brooks',\n",
       " 'Albert_Costa',\n",
       " 'Albert_Montanes',\n",
       " 'Albert_Pujols',\n",
       " 'Albrecht_Mentz',\n",
       " 'Aldo_Paredes',\n",
       " 'Alecos_Markides',\n",
       " 'Alec_Baldwin',\n",
       " 'Alejandro_Atchugarry',\n",
       " 'Alejandro_Avila',\n",
       " 'Alejandro_Fernandez',\n",
       " 'Alejandro_Gonzalez_Inarritu',\n",
       " 'Alejandro_Lembo',\n",
       " 'Alejandro_Lerner',\n",
       " 'Alejandro_Lopez',\n",
       " 'Alejandro_Toledo',\n",
       " 'Aleksander_Kwasniewski',\n",
       " 'Aleksander_Voloshin',\n",
       " 'Alek_Wek',\n",
       " 'Alessandra_Cerna',\n",
       " 'Alessandro_Nesta',\n",
       " 'Alexander_Downer',\n",
       " 'Alexander_Losyukov',\n",
       " 'Alexander_Lukashenko',\n",
       " 'Alexander_Payne',\n",
       " 'Alexander_Rumyantsev',\n",
       " 'Alexandra_Jackson',\n",
       " 'Alexandra_Pelosi',\n",
       " 'Alexandra_Rozovskaya',\n",
       " 'Alexandra_Spann',\n",
       " 'Alexandra_Stevenson',\n",
       " 'Alexandra_Vodjanikova',\n",
       " 'Alexandre_Daigle',\n",
       " 'Alexandre_Despatie',\n",
       " 'Alexandre_Herchcovitch',\n",
       " 'Alexandre_Vinokourov',\n",
       " 'Alexa_Loren',\n",
       " 'Alexa_Vega',\n",
       " 'Alexis_Bledel',\n",
       " 'Alexis_Dennisoff',\n",
       " 'Alex_Barros',\n",
       " 'Alex_Cabrera',\n",
       " 'Alex_Cejka',\n",
       " 'Alex_Corretja',\n",
       " 'Alex_Ferguson',\n",
       " 'Alex_Gonzalez',\n",
       " 'Alex_Holmes',\n",
       " 'Alex_King',\n",
       " 'Alex_Penelas',\n",
       " 'Alex_Popov',\n",
       " 'Alex_Sink',\n",
       " 'Alex_Wallau',\n",
       " 'Alex_Zanardi',\n",
       " 'Alfonso_Cuaron',\n",
       " 'Alfonso_Portillo',\n",
       " 'Alfonso_Soriano',\n",
       " 'Alfredo_di_Stefano',\n",
       " 'Alfredo_Moreno',\n",
       " 'Alfredo_Pena',\n",
       " 'Alfred_Ford',\n",
       " 'Alfred_Sant',\n",
       " 'Alice_Fisher',\n",
       " 'Alicia_Hollowell',\n",
       " 'Alicia_Keys',\n",
       " 'Alicia_Molik',\n",
       " 'Alicia_Silverstone',\n",
       " 'Alicia_Witt',\n",
       " 'Alimzhan_Tokhtakhounov',\n",
       " 'Alina_Kabaeva',\n",
       " 'Aline_Chretien',\n",
       " 'Alisha_Richman',\n",
       " 'Alison_Krauss',\n",
       " 'Alison_Lohman',\n",
       " 'Alistair_MacDonald',\n",
       " 'Ali_Abbas',\n",
       " 'Ali_Abdullah_Saleh',\n",
       " 'Ali_Adbul_Karim_Madani',\n",
       " 'Ali_Ahmeti',\n",
       " 'Ali_Bin_Hussein',\n",
       " 'Ali_Fallahian',\n",
       " 'Ali_Hammoud',\n",
       " 'Ali_Khamenei',\n",
       " 'Ali_Mohammed_Maher',\n",
       " 'Ali_Naimi',\n",
       " 'Allan_Houston',\n",
       " 'Allan_Kemakeza',\n",
       " 'Allan_Wagner',\n",
       " 'Allen_Iverson',\n",
       " 'Allen_Rock',\n",
       " 'Allison_Janney',\n",
       " 'Allison_Searing',\n",
       " 'Allyson_Felix',\n",
       " 'Ally_Sheedy',\n",
       " 'Alma_Powell',\n",
       " 'Almeida_Baptista',\n",
       " 'Alonzo_Mourning',\n",
       " 'Alvaro_Noboa',\n",
       " 'Alvaro_Silva_Calderon',\n",
       " 'Alvaro_Uribe',\n",
       " 'Alyse_Beaupre',\n",
       " 'Alyson_Hannigan',\n",
       " 'Aly_Wagner',\n",
       " 'Al_Cardenas',\n",
       " 'Al_Davis',\n",
       " 'Al_Gore',\n",
       " 'Al_Leiter',\n",
       " 'Al_Pacino',\n",
       " 'Al_Sharpton',\n",
       " 'Amanda_Beard',\n",
       " 'Amanda_Bynes',\n",
       " 'Amanda_Coetzer',\n",
       " 'Amanda_Marsh',\n",
       " 'Amanda_Plumer',\n",
       " 'Amber_Frey',\n",
       " 'Amber_Tamblyn',\n",
       " 'Ambrose_Lee',\n",
       " 'Amelia_Vega',\n",
       " 'Amelie_Mauresmo',\n",
       " 'Amer_al-Saadi',\n",
       " 'Amporn_Falise',\n",
       " 'Amram_Mitzna',\n",
       " 'Amr_Moussa',\n",
       " 'Amy_Brenneman',\n",
       " 'Amy_Cotton',\n",
       " 'Amy_Gale',\n",
       " 'Amy_Pascal',\n",
       " 'Amy_Redford',\n",
       " 'Amy_Smart',\n",
       " 'Amy_Yasbeck',\n",
       " 'Anastasia_Kelesidou',\n",
       " 'Anastasia_Myskina',\n",
       " 'Anatoliy_Kinakh',\n",
       " 'Ana_Claudia_Talancon',\n",
       " 'Ana_Guevara',\n",
       " 'Ana_Isabel_Sanchez',\n",
       " 'Ana_Palacio',\n",
       " 'Ana_Paula_Gerard',\n",
       " 'Ana_Sebastiao',\n",
       " 'Anderson_Varejao',\n",
       " 'Anders_Ebbeson',\n",
       " 'Anders_Fogh_Rasmussen',\n",
       " 'Andreas_Vinciguerra',\n",
       " 'Andrea_Bocelli',\n",
       " 'Andrea_De_Cruz',\n",
       " 'Andrea_Kiser',\n",
       " 'Andrea_Yates',\n",
       " 'Andrei_Konchalovsky',\n",
       " 'Andrei_Mikhnevich',\n",
       " 'Andrei_Nikolishin',\n",
       " 'Andres_DAlessandro',\n",
       " 'Andres_Manuel_Lopez_Obrador',\n",
       " 'Andres_Pastrana',\n",
       " 'Andrew_Bernard',\n",
       " 'Andrew_Bunner',\n",
       " 'Andrew_Caldecott',\n",
       " 'Andrew_Cuomo',\n",
       " 'Andrew_Fastow',\n",
       " 'Andrew_Firestone',\n",
       " 'Andrew_Gilligan',\n",
       " 'Andrew_Jarecki',\n",
       " 'Andrew_Luster',\n",
       " 'Andrew_Niccol',\n",
       " 'Andrew_Sabey',\n",
       " 'Andrew_Shutley',\n",
       " 'Andrew_Weissmann',\n",
       " 'Andrew_Wetzler',\n",
       " 'Andre_Agassi',\n",
       " 'Andre_Bucher',\n",
       " 'Andre_Lange',\n",
       " 'Andre_Smith',\n",
       " 'Andre_Techine',\n",
       " 'Andrzej_Tyszkiewicz',\n",
       " 'Andy_Benes',\n",
       " 'Andy_Bryant',\n",
       " 'Andy_Dick',\n",
       " 'Andy_Garcia',\n",
       " 'Andy_Graves',\n",
       " 'Andy_Griffith',\n",
       " 'Andy_Griggs',\n",
       " 'Andy_Hebb',\n",
       " 'Andy_Lau',\n",
       " 'Andy_Madikians',\n",
       " 'Andy_North',\n",
       " 'Andy_Perez',\n",
       " 'Andy_Roddick',\n",
       " 'Andy_Rooney',\n",
       " 'Andy_Warhol',\n",
       " 'Andy_Wisecarver',\n",
       " 'Anette_Hosoi',\n",
       " 'AnFernce_Negron',\n",
       " 'Angela_Alvarado_Rosa',\n",
       " 'Angela_Bassett',\n",
       " 'Angela_Lansbury',\n",
       " 'Angela_Mascia-Frye',\n",
       " 'Angela_Merkel',\n",
       " 'Angelica_Romero',\n",
       " 'Angelina_Jolie',\n",
       " 'Angelo_Genova',\n",
       " 'Angelo_Reyes',\n",
       " 'Angel_Lockward',\n",
       " 'Angel_Maza',\n",
       " 'Angie_Arzola',\n",
       " 'Angie_Martinez',\n",
       " 'Anibal_Ibarra',\n",
       " 'Anil_Ramsook',\n",
       " 'Anita_DeFrantz',\n",
       " 'Anja_Paerson',\n",
       " 'Anjum_Hussain',\n",
       " 'Anna_Chicherova',\n",
       " 'Anna_Faris',\n",
       " 'Anna_Jones',\n",
       " 'Anna_Kournikova',\n",
       " 'Anna_Nicole_Smith',\n",
       " 'Anneli_Jaatteenmaki',\n",
       " 'Annette_Bening',\n",
       " 'Annette_Lu',\n",
       " 'Anne_Cavers',\n",
       " 'Anne_Donovan',\n",
       " 'Anne_Heche',\n",
       " 'Anne_Krueger',\n",
       " 'Anne_McLellan',\n",
       " 'Anne_ONeil',\n",
       " 'Annie-Jeanne_Reynaud',\n",
       " 'Annie_Chaplin',\n",
       " 'Annie_Machon',\n",
       " 'Annika_Sorenstam',\n",
       " 'Ann_Godbehere',\n",
       " 'Ann_Landers',\n",
       " 'Ann_Morgan',\n",
       " 'Ann_Veneman',\n",
       " 'Antanas_Valionis',\n",
       " 'Anthony_Carter',\n",
       " 'Anthony_Corso',\n",
       " 'Anthony_Ervin',\n",
       " 'Anthony_Fauci',\n",
       " 'Anthony_Garotinho',\n",
       " 'Anthony_Hazen',\n",
       " 'Anthony_Hopkins',\n",
       " 'Anthony_LaPaglia',\n",
       " 'Anthony_Lee_Johnson',\n",
       " 'Anthony_Mazur',\n",
       " 'Anthony_Pico',\n",
       " 'Anthony_Pisciotti',\n",
       " 'Anthony_Principi',\n",
       " 'Anthony_Rackauckas',\n",
       " 'Anthony_Scott_Miller',\n",
       " 'Antje_Buschschulte',\n",
       " 'Antonio_Banderas',\n",
       " 'Antonio_Bernardo',\n",
       " 'Antonio_Cassano',\n",
       " 'Antonio_Catania',\n",
       " 'Antonio_Elias_Saca',\n",
       " 'Antonio_Palocci',\n",
       " 'Antonio_Trillanes',\n",
       " 'Antony_Leung',\n",
       " 'Anton_Balasingham',\n",
       " 'Antwun_Echols',\n",
       " 'Anwar_Ibrahim',\n",
       " 'Anzori_Kikalishvili',\n",
       " 'Aparna_Pillai',\n",
       " 'Aram_Adler',\n",
       " 'Arantxa_Sanchez-Vicario',\n",
       " 'Aretha_Franklin',\n",
       " 'Arianna_Huffington',\n",
       " 'Ariel_Sharon',\n",
       " 'Arie_Haan',\n",
       " 'Arif_Mardin',\n",
       " 'Ari_Bousbib',\n",
       " 'Ari_Fleischer',\n",
       " 'Arlen_Specter',\n",
       " 'Armando_Avila_Panchame',\n",
       " 'Armando_Calderon_Sol',\n",
       " 'Armando_Carrillo',\n",
       " 'Armand_Sargen',\n",
       " 'Arminio_Fraga',\n",
       " 'Arnaud_Clement',\n",
       " 'Arnaud_Lagardere',\n",
       " 'Arnie_Boehm',\n",
       " 'Arnoldo_Aleman',\n",
       " 'Arnold_Palmer',\n",
       " 'Arnold_Schwarzenegger',\n",
       " 'Arnold_Scott',\n",
       " 'Aron_Ralston',\n",
       " 'Arsinee_Khanjian',\n",
       " 'Arthur_Johnson',\n",
       " 'Arthur_Martinez',\n",
       " 'Artieas_Shanks',\n",
       " 'Arturo_Gatti',\n",
       " 'Art_Cooper',\n",
       " 'Art_Hoffmann',\n",
       " 'Art_Howe',\n",
       " 'Art_Lopez',\n",
       " 'Arye_Mekel',\n",
       " 'Asa_Hutchinson',\n",
       " 'Ascencion_Barajas',\n",
       " 'Ashanti',\n",
       " 'Ashlea_Talbot',\n",
       " 'Ashley_Judd',\n",
       " 'Ashley_Olsen',\n",
       " 'Ashley_Postell',\n",
       " 'Ashraf_Alasmar',\n",
       " 'Ashraf_Ghani',\n",
       " 'Ashton_Kutcher',\n",
       " 'Asif_Ali_Zardari',\n",
       " 'Asif_Hanif',\n",
       " 'Askar_Akayev',\n",
       " 'Asmaa_Assad',\n",
       " 'Assad_Ahmadi',\n",
       " 'Astou_Ndiaye-Diatta',\n",
       " 'Astrid_Betancourt',\n",
       " 'Astrid_Eyzaguirre',\n",
       " 'Atal_Bihari_Vajpayee',\n",
       " 'Ataollah_Mohajerani',\n",
       " 'Atiabet_Ijan_Amabel',\n",
       " 'Atom_Egoyan',\n",
       " 'Atsushi_Sato',\n",
       " 'Audrey_Lacroix',\n",
       " 'Audrey_Sauret',\n",
       " 'Augustin_Calleri',\n",
       " 'Augusto_Pinochet',\n",
       " 'Augusto_Roa_Bastos',\n",
       " 'Aung_San_Suu_Kyi',\n",
       " 'Austin_Kearns',\n",
       " 'Avril_Lavigne',\n",
       " 'Azmi_Bishara',\n",
       " 'Azra_Akin',\n",
       " 'Babe_Ruth',\n",
       " 'Baburam_Bhattari',\n",
       " 'Bak_Chang-Ryun',\n",
       " 'Barbara_Bach',\n",
       " 'Barbara_Becker',\n",
       " 'Barbara_Bodine',\n",
       " 'Barbara_Boxer',\n",
       " 'Barbara_Brezigar',\n",
       " 'Barbara_De_Brun',\n",
       " 'Barbara_Esbin',\n",
       " 'Barbara_Felt-Miller',\n",
       " 'Barbara_Roberts',\n",
       " 'Barbara_Walters',\n",
       " 'Barbora_Strycova',\n",
       " 'Barbra_Streisand',\n",
       " 'Barrett_Jackman',\n",
       " 'Barry_Alvarez',\n",
       " 'Barry_Bonds',\n",
       " 'Barry_Collier',\n",
       " 'Barry_Diller',\n",
       " 'Barry_Ford',\n",
       " 'Barry_Hinson',\n",
       " 'Barry_Nakell',\n",
       " 'Barry_Switzer',\n",
       " 'Barry_Williams',\n",
       " 'Barry_Zito',\n",
       " 'Bartosz_Kizierowski',\n",
       " 'Bart_Freundlich',\n",
       " 'Bart_Hendricks',\n",
       " 'Barzan_al-Tikriti',\n",
       " 'Basdeo_Panday',\n",
       " 'Bashar_Assad',\n",
       " 'Baz_Luhrmann',\n",
       " 'BB_King',\n",
       " 'Beatrice_Dalle',\n",
       " 'Beatriz_Merino',\n",
       " 'Beecher_Ray_Kirby',\n",
       " 'Begum_Khaleda_Zia',\n",
       " 'Bela_Karolyi',\n",
       " 'Benazir_Bhutto',\n",
       " 'Benedita_da_Silva',\n",
       " 'Benicio_Del_Toro',\n",
       " 'Benito_Santiago',\n",
       " 'Benjamin_Bratt',\n",
       " 'Benjamin_Franklin',\n",
       " 'Benjamin_Martinez',\n",
       " 'Benjamin_McKenzie',\n",
       " 'Benjamin_Netanyahu',\n",
       " 'Benjamin_Neulander',\n",
       " 'Ben_Affleck',\n",
       " 'Ben_Betts',\n",
       " 'Ben_Braun',\n",
       " 'Ben_Broussard',\n",
       " 'Ben_Cahoon',\n",
       " 'Ben_Chandler',\n",
       " 'Ben_Cohen',\n",
       " 'Ben_Curtis',\n",
       " 'Ben_Davis',\n",
       " 'Ben_Glisan',\n",
       " 'Ben_Howland',\n",
       " 'Ben_Kingsley',\n",
       " 'Ben_Lee',\n",
       " 'Ben_Stein',\n",
       " 'Ben_Wallace',\n",
       " 'Bernadette_Peters',\n",
       " 'Bernardo_Segura',\n",
       " 'Bernard_Ebbers',\n",
       " 'Bernard_Giraudeau',\n",
       " 'Bernard_Kerik',\n",
       " 'Bernard_Landry',\n",
       " 'Bernard_Law',\n",
       " 'Bernard_Lord',\n",
       " 'Bernard_Siegel',\n",
       " 'Bernice_Wong',\n",
       " 'Bertie_Ahern',\n",
       " 'Bertrand_Bonello',\n",
       " 'Bertrand_Delanoe',\n",
       " 'Beth_Blough',\n",
       " 'Beth_Jones',\n",
       " 'Betsy_Coffin',\n",
       " 'Betsy_Smith',\n",
       " 'Bettina_Rheims',\n",
       " 'Betty_Garrison',\n",
       " 'Betty_Williams',\n",
       " 'Beyonce_Knowles',\n",
       " 'Bianca_Jagger',\n",
       " 'Bijan_Darvish',\n",
       " 'Bijan_Namdar_Zangeneh',\n",
       " 'Bilal_Erdogan',\n",
       " 'Biljana_Plavsic',\n",
       " 'Billy_Andrade',\n",
       " 'Billy_Beane',\n",
       " 'Billy_Bob_Thornton',\n",
       " 'Billy_Boyd',\n",
       " 'Billy_Crawford',\n",
       " 'Billy_Crystal',\n",
       " 'Billy_Donovan',\n",
       " 'Billy_Edelin',\n",
       " 'Billy_Gilman',\n",
       " 'Billy_Graham',\n",
       " 'Billy_Joel',\n",
       " 'Billy_Rork',\n",
       " 'Billy_Sollie',\n",
       " 'Billy_Tibbets',\n",
       " 'Bill_Belichick',\n",
       " 'Bill_Bradley',\n",
       " 'Bill_Butler',\n",
       " 'Bill_Byrne',\n",
       " 'Bill_Callahan',\n",
       " 'Bill_Carmody',\n",
       " 'Bill_Cartwright',\n",
       " 'Bill_Clancy',\n",
       " 'Bill_Clinton',\n",
       " 'Bill_Curry',\n",
       " 'Bill_Doba',\n",
       " 'Bill_Duffey',\n",
       " 'Bill_Elliott',\n",
       " 'Bill_Fennelly',\n",
       " 'Bill_Frist',\n",
       " 'Bill_Gates',\n",
       " 'Bill_Graham',\n",
       " 'Bill_Guerin',\n",
       " 'Bill_Herrion',\n",
       " 'Bill_Hughes',\n",
       " 'Bill_King',\n",
       " 'Bill_Kollar',\n",
       " 'Bill_Kong',\n",
       " 'Bill_Lerach',\n",
       " 'Bill_Maher',\n",
       " 'Bill_Mauldin',\n",
       " 'Bill_McBride',\n",
       " 'Bill_Nelson',\n",
       " 'Bill_OReilly',\n",
       " 'Bill_Parcells',\n",
       " 'Bill_Parsons',\n",
       " 'Bill_Paxton',\n",
       " 'Bill_Pryor',\n",
       " 'Bill_Rainer',\n",
       " 'Bill_Readdy',\n",
       " 'Bill_Richardson',\n",
       " 'Bill_Self',\n",
       " 'Bill_Simon',\n",
       " 'Bill_Sizemore',\n",
       " 'Bill_Stapleton',\n",
       " 'Bill_Stein',\n",
       " 'Bill_Walton',\n",
       " 'Bing_Crosby',\n",
       " 'Binyamin_Ben-Eliezer',\n",
       " 'Bison_Dele',\n",
       " 'Bixente_LIzarazu',\n",
       " 'BJ_Habibie',\n",
       " 'Blas_Ople',\n",
       " 'Blythe_Danner',\n",
       " 'Blythe_Hartley',\n",
       " 'Bobby_Bowden',\n",
       " 'Bobby_Goldwater',\n",
       " 'Bobby_Jackson',\n",
       " 'Bobby_Kielty',\n",
       " 'Bobby_Robson',\n",
       " 'Bobo_Balde',\n",
       " 'Bob_Alper',\n",
       " 'Bob_Beauprez',\n",
       " 'Bob_Bowlsby',\n",
       " 'Bob_Cantrell',\n",
       " 'Bob_Colvin',\n",
       " 'Bob_Crippen',\n",
       " 'Bob_Curtis',\n",
       " 'Bob_Dole',\n",
       " 'Bob_Eskridge',\n",
       " 'Bob_Ferguson',\n",
       " 'Bob_Geldof',\n",
       " 'Bob_Goldman',\n",
       " 'Bob_Graham',\n",
       " 'Bob_Guccione',\n",
       " 'Bob_Hartley',\n",
       " 'Bob_Hayes',\n",
       " 'Bob_Herz',\n",
       " 'Bob_Holden',\n",
       " 'Bob_Hope',\n",
       " 'Bob_Huggins',\n",
       " 'Bob_Iger',\n",
       " 'Bob_Krueger',\n",
       " 'Bob_Melvin',\n",
       " 'Bob_Menendez',\n",
       " 'Bob_Newhart',\n",
       " 'Bob_Petrino',\n",
       " 'Bob_Riley',\n",
       " 'Bob_Stoops',\n",
       " 'Bob_Sulkin',\n",
       " 'Bob_Taft',\n",
       " 'Bob_Wright',\n",
       " 'Bode_Miller',\n",
       " 'Bonnie_Fuller',\n",
       " 'Bonnie_Hunt',\n",
       " 'Bono',\n",
       " 'Boris_Becker',\n",
       " 'Boris_Berezovsky',\n",
       " 'Boris_Henry',\n",
       " 'Boris_Jordan',\n",
       " 'Boris_Trajkovski',\n",
       " 'Boris_Yeltsin',\n",
       " 'Boutros_Boutros_Ghali',\n",
       " 'Bo_Pelini',\n",
       " 'Bo_Ryan',\n",
       " 'Brady_Rodgers',\n",
       " 'Brad_Alexander_Smith',\n",
       " 'Brad_Banks',\n",
       " 'Brad_Brownell',\n",
       " 'Brad_Garrett',\n",
       " 'Brad_Gushue',\n",
       " 'Brad_Johnson',\n",
       " 'Brad_Miller',\n",
       " 'Brad_Pitt',\n",
       " 'Brad_Russ',\n",
       " 'Brad_Smith',\n",
       " 'Brad_Wilk',\n",
       " 'Brajesh_Mishra',\n",
       " 'Brandon_Boyd',\n",
       " 'Brandon_Fails',\n",
       " 'Brandon_Hammond',\n",
       " 'Brandon_Inge',\n",
       " 'Brandon_Jones',\n",
       " 'Brandon_Knight',\n",
       " 'Brandon_Larson',\n",
       " 'Brandon_Lloyd',\n",
       " 'Brandon_Robinson',\n",
       " 'Brandon_Spann',\n",
       " 'Brandon_Webb',\n",
       " 'Branko_Crvenkovski',\n",
       " 'Brawley_King',\n",
       " 'Brendan_Fraser',\n",
       " 'Brendan_Gaughan',\n",
       " 'Brendan_Hansen',\n",
       " 'Brendan_Stai',\n",
       " 'Brenda_Magana',\n",
       " 'Brenda_van_Dam',\n",
       " 'Brenda_Wilson',\n",
       " 'Brennon_Leighton',\n",
       " 'Brent_Coles',\n",
       " 'Brett_Boone',\n",
       " 'Brett_Hawke',\n",
       " 'Brett_Hull',\n",
       " 'Brett_Perry',\n",
       " 'Brian_Billick',\n",
       " 'Brian_Campbell',\n",
       " 'Brian_Cashman',\n",
       " 'Brian_Clemens',\n",
       " 'Brian_Cook',\n",
       " 'Brian_Cowen',\n",
       " 'Brian_De_Palma',\n",
       " 'Brian_Florence',\n",
       " 'Brian_Grazier',\n",
       " 'Brian_Gregory',\n",
       " 'Brian_Griese',\n",
       " 'Brian_Heidik',\n",
       " 'Brian_Henson',\n",
       " 'Brian_Jordan',\n",
       " 'Brian_Kerr',\n",
       " 'Brian_Lara',\n",
       " 'Brian_McIntyre',\n",
       " 'Brian_Meadors',\n",
       " 'Brian_Mulroney',\n",
       " 'Brian_Olson',\n",
       " 'Brian_Pavlich',\n",
       " 'Brian_Scalabrine',\n",
       " 'Brian_Schneider',\n",
       " 'Brian_StPierre',\n",
       " 'Brian_Van_Dusen',\n",
       " 'Brian_Weaver',\n",
       " 'Brian_Wells',\n",
       " 'Brian_Williams',\n",
       " 'Bridgette_Wilson-Sampras',\n",
       " 'Bridget_Fonda',\n",
       " 'Brigitte_Boisselier',\n",
       " 'Britney_Spears',\n",
       " 'Brittany_Snow',\n",
       " 'Brock_Berlin',\n",
       " 'Bronson_Arroyo',\n",
       " 'Brooke_Adams',\n",
       " 'Brooke_Gordon',\n",
       " 'Brooke_Shields',\n",
       " 'Brook_Robinson',\n",
       " 'Bruce_Arena',\n",
       " 'Bruce_Gebhardt',\n",
       " 'Bruce_Lunsford',\n",
       " 'Bruce_Paltrow',\n",
       " 'Bruce_Springsteen',\n",
       " 'Bruce_Van_De_Velde',\n",
       " 'Bruce_Weber',\n",
       " 'Bruce_Willis',\n",
       " 'Bruna_Colosio',\n",
       " 'Bruno_Junquiera',\n",
       " 'Bryant_Young',\n",
       " 'Bryan_Adams',\n",
       " 'Bryan_Chui',\n",
       " 'Bryan_Cooley',\n",
       " 'Bryan_Murray',\n",
       " 'Bryan_Thomas',\n",
       " 'Bryce_Carmine',\n",
       " 'Buck_Rodgers',\n",
       " 'Buddy_Ryan',\n",
       " 'Budd_Schulberg',\n",
       " 'Bud_Selig',\n",
       " 'Buford_Blount',\n",
       " 'Bulent_Ecevit',\n",
       " 'Bustam_A_Zedan_Aljanabi',\n",
       " 'Butch_Davis',\n",
       " 'Buzz_Hargrove',\n",
       " 'Byron_Scott',\n",
       " 'Cabas',\n",
       " 'Caio_Blat',\n",
       " 'Calbert_Cheaney',\n",
       " 'Calista_Flockhart',\n",
       " 'Calvin_Harrison',\n",
       " 'Calvin_Joseph_Coleman',\n",
       " 'Cameron_Diaz',\n",
       " 'Camilla_Parker_Bowles',\n",
       " 'Camille_Colvin',\n",
       " 'Camille_Lewis',\n",
       " 'Camryn_Manheim',\n",
       " 'Candace_Sutton',\n",
       " 'Candice_Beatty',\n",
       " 'Candice_Bergen',\n",
       " 'Candie_Kung',\n",
       " 'Carey_Lowell',\n",
       " 'Carina_Lau_Ka-ling',\n",
       " 'Carin_Koch',\n",
       " 'Cari_Davis',\n",
       " 'Carla_Del_Ponte',\n",
       " 'Carla_Gay_Balingit',\n",
       " 'Carla_Gugino',\n",
       " 'Carla_Moreno',\n",
       " 'Carla_Myers',\n",
       " 'Carla_Sullivan',\n",
       " 'Carla_Tricoli',\n",
       " 'Carlos_Alberto',\n",
       " 'Carlos_Alberto_Parreira',\n",
       " 'Carlos_Arroyo',\n",
       " 'Carlos_Barra',\n",
       " 'Carlos_Barragan',\n",
       " 'Carlos_Beltran',\n",
       " 'Carlos_Bianchi',\n",
       " 'Carlos_De_Abreu',\n",
       " 'Carlos_Fasciolo',\n",
       " 'Carlos_Ghosn',\n",
       " 'Carlos_Iturgaitz',\n",
       " 'Carlos_Juarez',\n",
       " 'Carlos_Lordkipanitse',\n",
       " 'Carlos_Manuel_Pruneda',\n",
       " 'Carlos_Menem',\n",
       " 'Carlos_Mesa',\n",
       " 'Carlos_Moya',\n",
       " 'Carlos_Ortega',\n",
       " 'Carlos_Paternina',\n",
       " 'Carlos_Queiroz',\n",
       " 'Carlos_Quintanilla_Schmidt',\n",
       " 'Carlos_Ruckauf',\n",
       " 'Carlos_Ruiz',\n",
       " 'Carlos_Salinas',\n",
       " 'Carlos_Savedra',\n",
       " 'Carlos_Vives',\n",
       " 'Carlo_Ancelotti',\n",
       " 'Carlo_Azeglio_Ciampi',\n",
       " 'Carlton_Baugh',\n",
       " 'Carlton_Dotson',\n",
       " 'Carly_Fiorina',\n",
       " 'Carly_Gullickson',\n",
       " 'Carl_Levin',\n",
       " 'Carl_Pope',\n",
       " 'Carl_Reiner',\n",
       " 'Carmen_Electra',\n",
       " 'Carolina_Barco',\n",
       " 'Carolina_Kluft',\n",
       " 'Carolina_Moraes',\n",
       " 'Caroline_Dhavernas',\n",
       " 'Caroline_Kennedy',\n",
       " 'Caroline_Link',\n",
       " 'Carolyn_Dawn_Johnson',\n",
       " 'Carolyn_Kuhl',\n",
       " 'Carol_Burnett',\n",
       " 'Carol_Carmody',\n",
       " 'Carol_Moseley_Braun',\n",
       " 'Carol_Niedermayer',\n",
       " 'Carol_Williams',\n",
       " 'Carrie-Anne_Moss',\n",
       " 'Carroll_Weimer',\n",
       " 'Carson_Daly',\n",
       " 'Carson_Palmer',\n",
       " 'Casey_Crowder',\n",
       " 'Casey_Mears',\n",
       " 'Cassandra_Heise',\n",
       " 'Cass_Ballenger',\n",
       " 'Casy_Preslar',\n",
       " 'Cate_Blanchett',\n",
       " 'Catherine_Bell',\n",
       " 'Catherine_Deneuve',\n",
       " 'Catherine_Donkers',\n",
       " 'Catherine_Ndereba',\n",
       " 'Catherine_Woodard',\n",
       " 'Catherine_Zeta-Jones',\n",
       " 'Cathryn_Crawford',\n",
       " 'Cathy_Chisholm',\n",
       " 'Cathy_Cunningham',\n",
       " 'Cathy_Freeman',\n",
       " 'Catriona_Le_May_Doan',\n",
       " 'Cecile_de_France',\n",
       " 'Cecilia_Bolocco',\n",
       " 'Cecilia_Chang',\n",
       " 'Cecilia_Cheung',\n",
       " 'Cedric_Benson',\n",
       " 'Celia_Cruz',\n",
       " 'Celine_Dion',\n",
       " 'Celso_Amorim',\n",
       " 'Celso_Lafer',\n",
       " 'Cemil_Cicek',\n",
       " 'Cesar_Gaviria',\n",
       " 'Cesar_Maia',\n",
       " 'Chadha_Gurinder',\n",
       " 'Chakib_Khelil',\n",
       " 'Chance_Mock',\n",
       " 'Chanda_Rubin',\n",
       " 'Chandrika_Kumaratunga',\n",
       " 'Chang_Dae-whan',\n",
       " 'Chang_Jae_On',\n",
       " 'Chang_Saio-yue',\n",
       " 'Chang_Sang',\n",
       " 'Chang_Tso',\n",
       " 'Chante_Jawan_Mallard',\n",
       " 'Chan_Choi',\n",
       " 'Chan_Gailey',\n",
       " 'Chan_Ho_Park',\n",
       " 'Charla_Moye',\n",
       " 'Charlene_Barshefsky',\n",
       " 'Charles_Bell',\n",
       " 'Charles_Bronson',\n",
       " 'Charles_Chandler_IV',\n",
       " 'Charles_Cope',\n",
       " 'Charles_Grassley',\n",
       " 'Charles_Holzner',\n",
       " 'Charles_Ingram',\n",
       " 'Charles_Kartman',\n",
       " 'Charles_Lebois',\n",
       " 'Charles_Mathews',\n",
       " 'Charles_Moose',\n",
       " 'Charles_Pickering',\n",
       " 'Charles_Pouty',\n",
       " 'Charles_Richardson',\n",
       " 'Charles_Rogers',\n",
       " 'Charles_Schumer',\n",
       " 'Charles_Tannok',\n",
       " 'Charles_Taylor',\n",
       " 'Charley_Armey',\n",
       " 'Charlie_Coles',\n",
       " 'Charlie_Deane',\n",
       " 'Charlie_Garner',\n",
       " 'Charlie_Hunnam',\n",
       " 'Charlie_Sheen',\n",
       " 'Charlie_Williams',\n",
       " 'Charlie_Zaa',\n",
       " 'Charlize_Theron',\n",
       " 'Charlotte_Casiraghi',\n",
       " 'Charlotte_Chambers',\n",
       " 'Charlotte_Church',\n",
       " 'Charlotte_Rampling',\n",
       " 'Charlton_Heston',\n",
       " 'Charmaine_Crooks',\n",
       " 'Chawki_Armali',\n",
       " 'Cha_Yung-gu',\n",
       " 'Chea_Sophara',\n",
       " 'Chelsea_Clinton',\n",
       " 'Chen_Kaige',\n",
       " 'Chen_Liang_Yu',\n",
       " 'Chen_Shui-bian',\n",
       " 'Chen_Tsai-chin',\n",
       " 'Cherie_Blair',\n",
       " 'Cherry_Jones',\n",
       " 'Cheryl_Ford',\n",
       " 'Cheryl_Hines',\n",
       " 'Cheryl_James',\n",
       " 'Cheryl_Little',\n",
       " 'Cheryl_Tiegs',\n",
       " 'Chhouk_Rin',\n",
       " 'Chick_Hearn',\n",
       " 'Chin-Feng_Chen',\n",
       " 'Chin-Hui_Tsao',\n",
       " 'Chip_Burrus',\n",
       " 'Chip_Ganassi',\n",
       " 'Chip_Knight',\n",
       " 'Chistian_Stahl',\n",
       " 'Chita_Rivera',\n",
       " 'Chloe_Sevigny',\n",
       " 'Choi_Sung-hong',\n",
       " 'Choi_Yun-yong',\n",
       " 'Chok_Tong_Goh',\n",
       " 'Cho_Myung-kyun',\n",
       " 'Christiane_Wulff',\n",
       " 'Christian_Bale',\n",
       " 'Christian_Fittipaldi',\n",
       " 'Christian_Gimenez',\n",
       " 'Christian_Lacroix',\n",
       " 'Christian_Lirette',\n",
       " 'Christian_Longo',\n",
       " 'Christian_Malcolm',\n",
       " 'Christian_Olsson',\n",
       " 'Christian_Patino',\n",
       " 'Christian_Von_Wernich',\n",
       " 'Christian_Wulff',\n",
       " 'Christina_Aguilera',\n",
       " 'Christina_Sawaya',\n",
       " 'Christine_Arron',\n",
       " 'Christine_Baumgartner',\n",
       " 'Christine_Ebersole',\n",
       " 'Christine_Gregoire',\n",
       " 'Christine_Rau',\n",
       " 'Christine_Todd_Whitman',\n",
       " 'Christopher_Amolsch',\n",
       " 'Christopher_Conyers',\n",
       " 'Christopher_Matero',\n",
       " 'Christopher_Patten',\n",
       " 'Christopher_Reeve',\n",
       " 'Christopher_Russell',\n",
       " 'Christopher_Speer',\n",
       " 'Christopher_Walken',\n",
       " 'Christopher_Whittle',\n",
       " 'Christoph_Daum',\n",
       " 'Christy_Ferer',\n",
       " 'Christy_Turlington',\n",
       " 'Chris_Andrews',\n",
       " 'Chris_Bell',\n",
       " 'Chris_Byrd',\n",
       " 'Chris_Cirino',\n",
       " 'Chris_Claiborne',\n",
       " 'Chris_Columbus',\n",
       " 'Chris_Cookson',\n",
       " 'Chris_Cooper',\n",
       " 'Chris_Cornell',\n",
       " 'Chris_Crocker',\n",
       " 'Chris_Dodd',\n",
       " 'Chris_Forsyth',\n",
       " 'Chris_Gratton',\n",
       " 'Chris_Hernandez',\n",
       " 'Chris_Klein',\n",
       " 'Chris_Kolanas',\n",
       " 'Chris_Matthews',\n",
       " 'Chris_Moore',\n",
       " 'Chris_Neil',\n",
       " 'Chris_Noth',\n",
       " 'Chris_Penn',\n",
       " 'Chris_Pronger',\n",
       " 'Chris_Reitsma',\n",
       " 'Chris_Rock',\n",
       " 'Chris_Simon',\n",
       " 'Chris_Swecker',\n",
       " 'Chris_Terry',\n",
       " 'Chris_Thomas',\n",
       " 'Chris_Tucker',\n",
       " 'Chris_Whitney',\n",
       " 'Chuanyun_Li',\n",
       " 'Chuck_Amato',\n",
       " 'Chuck_Bednarik',\n",
       " 'Chuck_Eidson',\n",
       " 'Chuck_Finley',\n",
       " 'Chuck_Hagel',\n",
       " 'Chuck_Woolery',\n",
       " 'Chuck_Yeager',\n",
       " 'Chung_Mong-hun',\n",
       " 'Chung_Mong-joon',\n",
       " 'Chyung_Dai-chul',\n",
       " ...]"
      ]
     },
     "execution_count": 105,
     "metadata": {},
     "output_type": "execute_result"
    }
   ],
   "source": [
    "os.listdir('lfw')"
   ]
  },
  {
   "cell_type": "markdown",
   "id": "c3a41c60-61f2-478d-ba5c-81b16a4578ea",
   "metadata": {},
   "source": [
    "## 2.2 Collect positive and anchor classes"
   ]
  },
  {
   "cell_type": "code",
   "execution_count": 21,
   "id": "fd515059-8e1e-4425-97e2-22a25cc75c7e",
   "metadata": {},
   "outputs": [],
   "source": [
    "#import uuid library to generate unique image names\n",
    "import uuid"
   ]
  },
  {
   "cell_type": "code",
   "execution_count": 23,
   "id": "d61c9c29-3144-4734-be2d-52985c4ce43d",
   "metadata": {},
   "outputs": [
    {
     "data": {
      "text/plain": [
       "UUID('8bce86a9-5827-11f0-aadb-8282fdfb3b56')"
      ]
     },
     "execution_count": 23,
     "metadata": {},
     "output_type": "execute_result"
    }
   ],
   "source": [
    "uuid.uuid1()"
   ]
  },
  {
   "cell_type": "code",
   "execution_count": 25,
   "id": "976d838c-8070-4ba8-8806-e91e52816c7e",
   "metadata": {},
   "outputs": [],
   "source": [
    "cap = cv2.VideoCapture(0)\n",
    "while cap.isOpened():\n",
    "    ret, frame = cap.read()\n",
    "\n",
    "    #cut down frame to 250x250px\n",
    "    frame = frame[120:120+250,200:200+250,:]\n",
    "\n",
    "    #Collect anchors\n",
    "    if cv2.waitKey(10) & 0xFF == ord('a'):\n",
    "        #create the unique file path\n",
    "        imgname = os.path.join(ANC_PATH, '{}.jpg'.format(uuid.uuid1()))\n",
    "        #Write out anchor image\n",
    "        cv2.imwrite(imgname, frame)\n",
    "\n",
    "    #Collect positives\n",
    "    if cv2.waitKey(10) & 0xFF == ord('p'):\n",
    "        #create the unique file path\n",
    "        imgname = os.path.join(PSO_PATH, '{}.jpg'.format(uuid.uuid1()))\n",
    "        #Write out positive image\n",
    "        cv2.imwrite(imgname, frame)\n",
    "    \n",
    "    cv2.imshow('Image Collection', frame)\n",
    "    #Break gracefully\n",
    "    if cv2.waitKey(1) & 0xFF == ord('q'):\n",
    "        break\n",
    "cap.release()\n",
    "cv2.destroyAllWindows()"
   ]
  },
  {
   "cell_type": "code",
   "execution_count": 27,
   "id": "803f526b-f470-451a-a535-df34f8189dc5",
   "metadata": {},
   "outputs": [
    {
     "data": {
      "text/plain": [
       "<matplotlib.image.AxesImage at 0x27bc15ba3c0>"
      ]
     },
     "execution_count": 27,
     "metadata": {},
     "output_type": "execute_result"
    },
    {
     "data": {
      "image/png": "[encoded data removed]",
      "text/plain": [
       "<Figure size 640x480 with 1 Axes>"
      ]
     },
     "metadata": {},
     "output_type": "display_data"
    }
   ],
   "source": [
    "plt.imshow(frame[120:120+250,200:200+250,:])"
   ]
  },
  {
   "cell_type": "code",
   "execution_count": 29,
   "id": "b2bc70ee-7d84-4f1a-849d-7363217d4c42",
   "metadata": {},
   "outputs": [
    {
     "data": {
      "text/plain": [
       "(250, 250, 3)"
      ]
     },
     "execution_count": 29,
     "metadata": {},
     "output_type": "execute_result"
    }
   ],
   "source": [
    "frame.shape"
   ]
  },
  {
   "cell_type": "markdown",
   "id": "f4abcef8-23ba-4e10-bcf4-835d3d1c1dd7",
   "metadata": {},
   "source": [
    "## 3.Load and preprocess images"
   ]
  },
  {
   "cell_type": "markdown",
   "id": "7e7f3d2e-520c-4b8c-998a-a39f589553e8",
   "metadata": {},
   "source": [
    "## 3.1 Get image directories"
   ]
  },
  {
   "cell_type": "code",
   "execution_count": 31,
   "id": "8bf90c52-2fba-49a0-af22-309d1efc6bc2",
   "metadata": {},
   "outputs": [],
   "source": [
    "anchor = tf.data.Dataset.list_files(ANC_PATH+'/*.jpg').take(300)\n",
    "positive = tf.data.Dataset.list_files(PSO_PATH+'/*.jpg').take(300)\n",
    "negative = tf.data.Dataset.list_files(NEG_PATH+'/*.jpg').take(300)"
   ]
  },
  {
   "cell_type": "code",
   "execution_count": 32,
   "id": "ebbd62ec-a2e1-44a8-8719-7a4b9187a8cc",
   "metadata": {},
   "outputs": [
    {
     "data": {
      "text/plain": [
       "b'data\\\\anchor\\\\ab93a697-567b-11f0-9a12-8282fdfb3b56.jpg'"
      ]
     },
     "execution_count": 32,
     "metadata": {},
     "output_type": "execute_result"
    }
   ],
   "source": [
    "anchor.as_numpy_iterator().next()"
   ]
  },
  {
   "cell_type": "markdown",
   "id": "790c0192-42a6-4d82-bd2c-64b19a23c42f",
   "metadata": {},
   "source": [
    "## 3.2 Preprocessing - Scale size and Resize"
   ]
  },
  {
   "cell_type": "code",
   "execution_count": 35,
   "id": "a85a4468-0d86-49a0-93d7-95c88194157f",
   "metadata": {},
   "outputs": [],
   "source": [
    "def preprocess(file_path):\n",
    "    #read in image from file path\n",
    "    byte_img = tf.io.read_file(file_path)\n",
    "    #load in the image\n",
    "    img = tf.io.decode_jpeg(byte_img)\n",
    "    #preprocessing step - resizing the image to be 100x100x3\n",
    "    img = tf.image.resize(img, (100, 100))\n",
    "    #Scale image to be between 0 and 1\n",
    "    img = img / 255.0\n",
    "    return img"
   ]
  },
  {
   "cell_type": "code",
   "execution_count": 37,
   "id": "aceb3fa0-fa6b-4798-8934-8a0efa7bc429",
   "metadata": {},
   "outputs": [],
   "source": [
    "img = preprocess('data\\\\anchor\\\\a4122870-567b-11f0-ae63-8282fdfb3b56.jpg')"
   ]
  },
  {
   "cell_type": "code",
   "execution_count": 39,
   "id": "6b3bf5ee-76f5-4711-9f2c-cdda2cb34470",
   "metadata": {},
   "outputs": [
    {
     "data": {
      "text/plain": [
       "<matplotlib.image.AxesImage at 0x27bc1c80140>"
      ]
     },
     "execution_count": 39,
     "metadata": {},
     "output_type": "execute_result"
    },
    {
     "data": {
      "image/png": "[encoded data removed]",
      "text/plain": [
       "<Figure size 640x480 with 1 Axes>"
      ]
     },
     "metadata": {},
     "output_type": "display_data"
    }
   ],
   "source": [
    "plt.imshow(img)"
   ]
  },
  {
   "cell_type": "markdown",
   "id": "09845c7b-7cfe-45e7-b040-92bcec650e9e",
   "metadata": {},
   "source": [
    "## 3.3 create labelled data set"
   ]
  },
  {
   "cell_type": "code",
   "execution_count": 181,
   "id": "7f586e39-2500-4e58-a4c1-2cc78d97f13d",
   "metadata": {},
   "outputs": [],
   "source": [
    "# (anchor, positive) => 1,1,1,1,1\n",
    "# (anchor, negative) => 0,0,0,0,0"
   ]
  },
  {
   "cell_type": "code",
   "execution_count": 41,
   "id": "05e1cac3-2a1a-4e3a-bcd8-047d4835fe55",
   "metadata": {},
   "outputs": [
    {
     "data": {
      "text/plain": [
       "<tf.Tensor: shape=(300,), dtype=float32, numpy=\n",
       "array([1., 1., 1., 1., 1., 1., 1., 1., 1., 1., 1., 1., 1., 1., 1., 1., 1.,\n",
       "       1., 1., 1., 1., 1., 1., 1., 1., 1., 1., 1., 1., 1., 1., 1., 1., 1.,\n",
       "       1., 1., 1., 1., 1., 1., 1., 1., 1., 1., 1., 1., 1., 1., 1., 1., 1.,\n",
       "       1., 1., 1., 1., 1., 1., 1., 1., 1., 1., 1., 1., 1., 1., 1., 1., 1.,\n",
       "       1., 1., 1., 1., 1., 1., 1., 1., 1., 1., 1., 1., 1., 1., 1., 1., 1.,\n",
       "       1., 1., 1., 1., 1., 1., 1., 1., 1., 1., 1., 1., 1., 1., 1., 1., 1.,\n",
       "       1., 1., 1., 1., 1., 1., 1., 1., 1., 1., 1., 1., 1., 1., 1., 1., 1.,\n",
       "       1., 1., 1., 1., 1., 1., 1., 1., 1., 1., 1., 1., 1., 1., 1., 1., 1.,\n",
       "       1., 1., 1., 1., 1., 1., 1., 1., 1., 1., 1., 1., 1., 1., 1., 1., 1.,\n",
       "       1., 1., 1., 1., 1., 1., 1., 1., 1., 1., 1., 1., 1., 1., 1., 1., 1.,\n",
       "       1., 1., 1., 1., 1., 1., 1., 1., 1., 1., 1., 1., 1., 1., 1., 1., 1.,\n",
       "       1., 1., 1., 1., 1., 1., 1., 1., 1., 1., 1., 1., 1., 1., 1., 1., 1.,\n",
       "       1., 1., 1., 1., 1., 1., 1., 1., 1., 1., 1., 1., 1., 1., 1., 1., 1.,\n",
       "       1., 1., 1., 1., 1., 1., 1., 1., 1., 1., 1., 1., 1., 1., 1., 1., 1.,\n",
       "       1., 1., 1., 1., 1., 1., 1., 1., 1., 1., 1., 1., 1., 1., 1., 1., 1.,\n",
       "       1., 1., 1., 1., 1., 1., 1., 1., 1., 1., 1., 1., 1., 1., 1., 1., 1.,\n",
       "       1., 1., 1., 1., 1., 1., 1., 1., 1., 1., 1., 1., 1., 1., 1., 1., 1.,\n",
       "       1., 1., 1., 1., 1., 1., 1., 1., 1., 1., 1.], dtype=float32)>"
      ]
     },
     "execution_count": 41,
     "metadata": {},
     "output_type": "execute_result"
    }
   ],
   "source": [
    "tf.ones(len(anchor))"
   ]
  },
  {
   "cell_type": "code",
   "execution_count": 43,
   "id": "bf984870-f91d-4ece-9ca8-31ac3af1442b",
   "metadata": {},
   "outputs": [],
   "source": [
    "positives = tf.data.Dataset.zip((anchor, positive, tf.data.Dataset.from_tensor_slices(tf.ones(len(anchor)))))\n",
    "negatives = tf.data.Dataset.zip((anchor, negative, tf.data.Dataset.from_tensor_slices(tf.zeros(len(anchor)))))\n",
    "data = positives.concatenate(negatives)"
   ]
  },
  {
   "cell_type": "code",
   "execution_count": 45,
   "id": "eb859d4d-a592-4e46-8f9c-ca43dfd15eb7",
   "metadata": {},
   "outputs": [],
   "source": [
    "example = data.as_numpy_iterator().next()"
   ]
  },
  {
   "cell_type": "markdown",
   "id": "0c49e5c1-30af-4767-9f41-b72f6d99f43b",
   "metadata": {},
   "source": [
    "## 3.4 Build train and test partitions"
   ]
  },
  {
   "cell_type": "code",
   "execution_count": 48,
   "id": "074d98e0-e5f8-4b71-8a00-33e823599442",
   "metadata": {},
   "outputs": [],
   "source": [
    "def preprocess_twin(input_img, validation_img, label):\n",
    "    return (preprocess(input_img), preprocess(validation_img), label)"
   ]
  },
  {
   "cell_type": "code",
   "execution_count": 50,
   "id": "621f1855-af02-4438-8df8-612cf217669e",
   "metadata": {},
   "outputs": [],
   "source": [
    "res = preprocess_twin(*example)"
   ]
  },
  {
   "cell_type": "code",
   "execution_count": 52,
   "id": "b82e337d-808b-4cc3-a377-92e363947871",
   "metadata": {},
   "outputs": [
    {
     "data": {
      "text/plain": [
       "<matplotlib.image.AxesImage at 0x27bc2db99d0>"
      ]
     },
     "execution_count": 52,
     "metadata": {},
     "output_type": "execute_result"
    },
    {
     "data": {
      "image/png": "[encoded data removed]",
      "text/plain": [
       "<Figure size 640x480 with 1 Axes>"
      ]
     },
     "metadata": {},
     "output_type": "display_data"
    }
   ],
   "source": [
    "plt.imshow(res[1])"
   ]
  },
  {
   "cell_type": "code",
   "execution_count": 54,
   "id": "9c46b1ac-40f1-4aa8-b94e-296ce8a19555",
   "metadata": {},
   "outputs": [
    {
     "data": {
      "text/plain": [
       "1.0"
      ]
     },
     "execution_count": 54,
     "metadata": {},
     "output_type": "execute_result"
    }
   ],
   "source": [
    "res[2]"
   ]
  },
  {
   "cell_type": "code",
   "execution_count": 56,
   "id": "acbd18e7-54f3-4d74-9ac3-9c6a6c94638f",
   "metadata": {},
   "outputs": [],
   "source": [
    "#Build dataloader pipeline\n",
    "data = data.map(preprocess_twin)\n",
    "data = data.cache()\n",
    "data = data.shuffle(buffer_size = 1024)"
   ]
  },
  {
   "cell_type": "code",
   "execution_count": 58,
   "id": "d01b7ccd-026e-4559-b661-61023d139d80",
   "metadata": {},
   "outputs": [],
   "source": [
    "samples = data.as_numpy_iterator().next()"
   ]
  },
  {
   "cell_type": "code",
   "execution_count": 60,
   "id": "37164592-56ee-4e1e-a111-213d2160284f",
   "metadata": {},
   "outputs": [
    {
     "data": {
      "text/plain": [
       "3"
      ]
     },
     "execution_count": 60,
     "metadata": {},
     "output_type": "execute_result"
    }
   ],
   "source": [
    "len(samples)"
   ]
  },
  {
   "cell_type": "code",
   "execution_count": 62,
   "id": "15c9fc09-49e8-45e5-b5c2-5aedc8604cd7",
   "metadata": {},
   "outputs": [
    {
     "data": {
      "text/plain": [
       "<matplotlib.image.AxesImage at 0x27bc2e34380>"
      ]
     },
     "execution_count": 62,
     "metadata": {},
     "output_type": "execute_result"
    },
    {
     "data": {
      "image/png": "[encoded data removed]",
      "text/plain": [
       "<Figure size 640x480 with 1 Axes>"
      ]
     },
     "metadata": {},
     "output_type": "display_data"
    }
   ],
   "source": [
    "plt.imshow(samples[0])"
   ]
  },
  {
   "cell_type": "code",
   "execution_count": 64,
   "id": "18297fe2-8df0-4e49-85fa-b8ad5cbced13",
   "metadata": {},
   "outputs": [
    {
     "data": {
      "text/plain": [
       "<matplotlib.image.AxesImage at 0x27bc2da30b0>"
      ]
     },
     "execution_count": 64,
     "metadata": {},
     "output_type": "execute_result"
    },
    {
     "data": {
      "image/png": "[encoded data removed]",
      "text/plain": [
       "<Figure size 640x480 with 1 Axes>"
      ]
     },
     "metadata": {},
     "output_type": "display_data"
    }
   ],
   "source": [
    "plt.imshow(samples[1])"
   ]
  },
  {
   "cell_type": "code",
   "execution_count": 66,
   "id": "f20b1879-46de-4dd2-9d3d-0b12458d03b2",
   "metadata": {},
   "outputs": [
    {
     "data": {
      "text/plain": [
       "1.0"
      ]
     },
     "execution_count": 66,
     "metadata": {},
     "output_type": "execute_result"
    }
   ],
   "source": [
    "samples[2]"
   ]
  },
  {
   "cell_type": "code",
   "execution_count": 68,
   "id": "9e8b8f62-8cce-4604-9c0a-ab9cc6c54f65",
   "metadata": {},
   "outputs": [],
   "source": [
    "#Training Partition\n",
    "train_data = data.take(round(len(data)*7))\n",
    "train_data = train_data.batch(16)\n",
    "train_data = train_data.prefetch(8)"
   ]
  },
  {
   "cell_type": "code",
   "execution_count": 70,
   "id": "bb34870f-bec9-4274-ad72-3a1995633575",
   "metadata": {},
   "outputs": [],
   "source": [
    " train_samples = train_data.as_numpy_iterator()"
   ]
  },
  {
   "cell_type": "code",
   "execution_count": 72,
   "id": "f9d2310f-9399-439f-b052-8cf820a93e27",
   "metadata": {},
   "outputs": [
    {
     "data": {
      "text/plain": [
       "16"
      ]
     },
     "execution_count": 72,
     "metadata": {},
     "output_type": "execute_result"
    }
   ],
   "source": [
    "len(train_samples.next()[0])"
   ]
  },
  {
   "cell_type": "code",
   "execution_count": 73,
   "id": "484fda53-2509-4228-8b29-1e9a043bbc3c",
   "metadata": {},
   "outputs": [],
   "source": [
    "#Testing partition\n",
    "test_data = data.skip(round(len(data)*.7))\n",
    "test_data = test_data.take(round(len(data)*.3))\n",
    "test_data = test_data.batch(16)\n",
    "test_data = test_data.prefetch(8)"
   ]
  },
  {
   "cell_type": "markdown",
   "id": "3be335d8-5d52-4512-b2aa-ebd3f5d882bc",
   "metadata": {},
   "source": [
    "## 4.Model Engineering"
   ]
  },
  {
   "cell_type": "markdown",
   "id": "086ad2dc-7ae8-42bb-9655-4e42afce2864",
   "metadata": {},
   "source": [
    "## 4.1 build embedding layer"
   ]
  },
  {
   "cell_type": "code",
   "execution_count": 78,
   "id": "815de732-77e3-453f-92dd-000b9f0f7637",
   "metadata": {},
   "outputs": [],
   "source": [
    "inp = Input(shape = (100, 100, 3), name='input_image')"
   ]
  },
  {
   "cell_type": "code",
   "execution_count": 80,
   "id": "50921a95-bc22-4568-8a4a-21290d187c4b",
   "metadata": {},
   "outputs": [],
   "source": [
    "c1 = Conv2D(64, (10, 10), activation = 'relu')(inp)"
   ]
  },
  {
   "cell_type": "code",
   "execution_count": 82,
   "id": "98b2f730-bc28-44d8-b84f-8c45a05c0cff",
   "metadata": {},
   "outputs": [],
   "source": [
    "m1 = MaxPooling2D(64, (2, 2), padding='same')(c1)"
   ]
  },
  {
   "cell_type": "code",
   "execution_count": 84,
   "id": "7da67fe6-8976-4e02-8d0f-abff475a4937",
   "metadata": {},
   "outputs": [
    {
     "data": {
      "text/plain": [
       "<KerasTensor shape=(None, 46, 46, 64), dtype=float32, sparse=False, ragged=False, name=keras_tensor_1>"
      ]
     },
     "execution_count": 84,
     "metadata": {},
     "output_type": "execute_result"
    }
   ],
   "source": [
    "m1"
   ]
  },
  {
   "cell_type": "code",
   "execution_count": 86,
   "id": "c0842796-4502-450b-ac17-ab8a830d7495",
   "metadata": {},
   "outputs": [],
   "source": [
    "def make_embedding():\n",
    "    inp = Input(shape = (100, 100, 3), name='input_image')\n",
    "\n",
    "    #First block\n",
    "    c1 = Conv2D(64, (10, 10), activation = 'relu')(inp)\n",
    "    m1 = MaxPooling2D(64, (2, 2), padding='same')(c1)\n",
    "\n",
    "    #Second block\n",
    "    c2 = Conv2D(128, (7, 7), activation = 'relu')(m1)\n",
    "    m2 = MaxPooling2D(64, (2, 2), padding='same')(c2)\n",
    "\n",
    "    #Third block\n",
    "    c3 = Conv2D(128, (4, 4), activation = 'relu')(m2)\n",
    "    m3 = MaxPooling2D(64, (2, 2), padding='same')(c3)\n",
    "\n",
    "    #Finale block\n",
    "    c4 = Conv2D(256, (4, 4), activation = 'relu')(m3)\n",
    "    f1 = Flatten()(c4)\n",
    "    d1 = Dense(4096, activation= 'sigmoid')(f1)\n",
    "\n",
    "    return Model(inputs = [inp], outputs =[d1], name = 'embedding')"
   ]
  },
  {
   "cell_type": "code",
   "execution_count": 88,
   "id": "f7ef1a2a-e80b-45d3-9fb9-16a9e16cc04e",
   "metadata": {},
   "outputs": [],
   "source": [
    "embedding = make_embedding()"
   ]
  },
  {
   "cell_type": "code",
   "execution_count": 90,
   "id": "85fe3c7f-830b-4f1a-995f-c0136d4fe66d",
   "metadata": {},
   "outputs": [
    {
     "data": {
      "text/html": [
       "<pre style=\"white-space:pre;overflow-x:auto;line-height:normal;font-family:Menlo,'DejaVu Sans Mono',consolas,'Courier New',monospace\"><span style=\"font-weight: bold\">Model: \"embedding\"</span>\n",
       "</pre>\n"
      ],
      "text/plain": [
       "\u001b[1mModel: \"embedding\"\u001b[0m\n"
      ]
     },
     "metadata": {},
     "output_type": "display_data"
    },
    {
     "data": {
      "text/html": [
       "<pre style=\"white-space:pre;overflow-x:auto;line-height:normal;font-family:Menlo,'DejaVu Sans Mono',consolas,'Courier New',monospace\">┏━━━━━━━━━━━━━━━━━━━━━━━━━━━━━━━━━━━━━━┳━━━━━━━━━━━━━━━━━━━━━━━━━━━━━┳━━━━━━━━━━━━━━━━━┓\n",
       "┃<span style=\"font-weight: bold\"> Layer (type)                         </span>┃<span style=\"font-weight: bold\"> Output Shape                </span>┃<span style=\"font-weight: bold\">         Param # </span>┃\n",
       "┡━━━━━━━━━━━━━━━━━━━━━━━━━━━━━━━━━━━━━━╇━━━━━━━━━━━━━━━━━━━━━━━━━━━━━╇━━━━━━━━━━━━━━━━━┩\n",
       "│ input_image (<span style=\"color: #0087ff; text-decoration-color: #0087ff\">InputLayer</span>)             │ (<span style=\"color: #00d7ff; text-decoration-color: #00d7ff\">None</span>, <span style=\"color: #00af00; text-decoration-color: #00af00\">100</span>, <span style=\"color: #00af00; text-decoration-color: #00af00\">100</span>, <span style=\"color: #00af00; text-decoration-color: #00af00\">3</span>)         │               <span style=\"color: #00af00; text-decoration-color: #00af00\">0</span> │\n",
       "├──────────────────────────────────────┼─────────────────────────────┼─────────────────┤\n",
       "│ conv2d_1 (<span style=\"color: #0087ff; text-decoration-color: #0087ff\">Conv2D</span>)                    │ (<span style=\"color: #00d7ff; text-decoration-color: #00d7ff\">None</span>, <span style=\"color: #00af00; text-decoration-color: #00af00\">91</span>, <span style=\"color: #00af00; text-decoration-color: #00af00\">91</span>, <span style=\"color: #00af00; text-decoration-color: #00af00\">64</span>)          │          <span style=\"color: #00af00; text-decoration-color: #00af00\">19,264</span> │\n",
       "├──────────────────────────────────────┼─────────────────────────────┼─────────────────┤\n",
       "│ max_pooling2d_1 (<span style=\"color: #0087ff; text-decoration-color: #0087ff\">MaxPooling2D</span>)       │ (<span style=\"color: #00d7ff; text-decoration-color: #00d7ff\">None</span>, <span style=\"color: #00af00; text-decoration-color: #00af00\">46</span>, <span style=\"color: #00af00; text-decoration-color: #00af00\">46</span>, <span style=\"color: #00af00; text-decoration-color: #00af00\">64</span>)          │               <span style=\"color: #00af00; text-decoration-color: #00af00\">0</span> │\n",
       "├──────────────────────────────────────┼─────────────────────────────┼─────────────────┤\n",
       "│ conv2d_2 (<span style=\"color: #0087ff; text-decoration-color: #0087ff\">Conv2D</span>)                    │ (<span style=\"color: #00d7ff; text-decoration-color: #00d7ff\">None</span>, <span style=\"color: #00af00; text-decoration-color: #00af00\">40</span>, <span style=\"color: #00af00; text-decoration-color: #00af00\">40</span>, <span style=\"color: #00af00; text-decoration-color: #00af00\">128</span>)         │         <span style=\"color: #00af00; text-decoration-color: #00af00\">401,536</span> │\n",
       "├──────────────────────────────────────┼─────────────────────────────┼─────────────────┤\n",
       "│ max_pooling2d_2 (<span style=\"color: #0087ff; text-decoration-color: #0087ff\">MaxPooling2D</span>)       │ (<span style=\"color: #00d7ff; text-decoration-color: #00d7ff\">None</span>, <span style=\"color: #00af00; text-decoration-color: #00af00\">20</span>, <span style=\"color: #00af00; text-decoration-color: #00af00\">20</span>, <span style=\"color: #00af00; text-decoration-color: #00af00\">128</span>)         │               <span style=\"color: #00af00; text-decoration-color: #00af00\">0</span> │\n",
       "├──────────────────────────────────────┼─────────────────────────────┼─────────────────┤\n",
       "│ conv2d_3 (<span style=\"color: #0087ff; text-decoration-color: #0087ff\">Conv2D</span>)                    │ (<span style=\"color: #00d7ff; text-decoration-color: #00d7ff\">None</span>, <span style=\"color: #00af00; text-decoration-color: #00af00\">17</span>, <span style=\"color: #00af00; text-decoration-color: #00af00\">17</span>, <span style=\"color: #00af00; text-decoration-color: #00af00\">128</span>)         │         <span style=\"color: #00af00; text-decoration-color: #00af00\">262,272</span> │\n",
       "├──────────────────────────────────────┼─────────────────────────────┼─────────────────┤\n",
       "│ max_pooling2d_3 (<span style=\"color: #0087ff; text-decoration-color: #0087ff\">MaxPooling2D</span>)       │ (<span style=\"color: #00d7ff; text-decoration-color: #00d7ff\">None</span>, <span style=\"color: #00af00; text-decoration-color: #00af00\">9</span>, <span style=\"color: #00af00; text-decoration-color: #00af00\">9</span>, <span style=\"color: #00af00; text-decoration-color: #00af00\">128</span>)           │               <span style=\"color: #00af00; text-decoration-color: #00af00\">0</span> │\n",
       "├──────────────────────────────────────┼─────────────────────────────┼─────────────────┤\n",
       "│ conv2d_4 (<span style=\"color: #0087ff; text-decoration-color: #0087ff\">Conv2D</span>)                    │ (<span style=\"color: #00d7ff; text-decoration-color: #00d7ff\">None</span>, <span style=\"color: #00af00; text-decoration-color: #00af00\">6</span>, <span style=\"color: #00af00; text-decoration-color: #00af00\">6</span>, <span style=\"color: #00af00; text-decoration-color: #00af00\">256</span>)           │         <span style=\"color: #00af00; text-decoration-color: #00af00\">524,544</span> │\n",
       "├──────────────────────────────────────┼─────────────────────────────┼─────────────────┤\n",
       "│ flatten (<span style=\"color: #0087ff; text-decoration-color: #0087ff\">Flatten</span>)                    │ (<span style=\"color: #00d7ff; text-decoration-color: #00d7ff\">None</span>, <span style=\"color: #00af00; text-decoration-color: #00af00\">9216</span>)                │               <span style=\"color: #00af00; text-decoration-color: #00af00\">0</span> │\n",
       "├──────────────────────────────────────┼─────────────────────────────┼─────────────────┤\n",
       "│ dense (<span style=\"color: #0087ff; text-decoration-color: #0087ff\">Dense</span>)                        │ (<span style=\"color: #00d7ff; text-decoration-color: #00d7ff\">None</span>, <span style=\"color: #00af00; text-decoration-color: #00af00\">4096</span>)                │      <span style=\"color: #00af00; text-decoration-color: #00af00\">37,752,832</span> │\n",
       "└──────────────────────────────────────┴─────────────────────────────┴─────────────────┘\n",
       "</pre>\n"
      ],
      "text/plain": [
       "┏━━━━━━━━━━━━━━━━━━━━━━━━━━━━━━━━━━━━━━┳━━━━━━━━━━━━━━━━━━━━━━━━━━━━━┳━━━━━━━━━━━━━━━━━┓\n",
       "┃\u001b[1m \u001b[0m\u001b[1mLayer (type)                        \u001b[0m\u001b[1m \u001b[0m┃\u001b[1m \u001b[0m\u001b[1mOutput Shape               \u001b[0m\u001b[1m \u001b[0m┃\u001b[1m \u001b[0m\u001b[1m        Param #\u001b[0m\u001b[1m \u001b[0m┃\n",
       "┡━━━━━━━━━━━━━━━━━━━━━━━━━━━━━━━━━━━━━━╇━━━━━━━━━━━━━━━━━━━━━━━━━━━━━╇━━━━━━━━━━━━━━━━━┩\n",
       "│ input_image (\u001b[38;5;33mInputLayer\u001b[0m)             │ (\u001b[38;5;45mNone\u001b[0m, \u001b[38;5;34m100\u001b[0m, \u001b[38;5;34m100\u001b[0m, \u001b[38;5;34m3\u001b[0m)         │               \u001b[38;5;34m0\u001b[0m │\n",
       "├──────────────────────────────────────┼─────────────────────────────┼─────────────────┤\n",
       "│ conv2d_1 (\u001b[38;5;33mConv2D\u001b[0m)                    │ (\u001b[38;5;45mNone\u001b[0m, \u001b[38;5;34m91\u001b[0m, \u001b[38;5;34m91\u001b[0m, \u001b[38;5;34m64\u001b[0m)          │          \u001b[38;5;34m19,264\u001b[0m │\n",
       "├──────────────────────────────────────┼─────────────────────────────┼─────────────────┤\n",
       "│ max_pooling2d_1 (\u001b[38;5;33mMaxPooling2D\u001b[0m)       │ (\u001b[38;5;45mNone\u001b[0m, \u001b[38;5;34m46\u001b[0m, \u001b[38;5;34m46\u001b[0m, \u001b[38;5;34m64\u001b[0m)          │               \u001b[38;5;34m0\u001b[0m │\n",
       "├──────────────────────────────────────┼─────────────────────────────┼─────────────────┤\n",
       "│ conv2d_2 (\u001b[38;5;33mConv2D\u001b[0m)                    │ (\u001b[38;5;45mNone\u001b[0m, \u001b[38;5;34m40\u001b[0m, \u001b[38;5;34m40\u001b[0m, \u001b[38;5;34m128\u001b[0m)         │         \u001b[38;5;34m401,536\u001b[0m │\n",
       "├──────────────────────────────────────┼─────────────────────────────┼─────────────────┤\n",
       "│ max_pooling2d_2 (\u001b[38;5;33mMaxPooling2D\u001b[0m)       │ (\u001b[38;5;45mNone\u001b[0m, \u001b[38;5;34m20\u001b[0m, \u001b[38;5;34m20\u001b[0m, \u001b[38;5;34m128\u001b[0m)         │               \u001b[38;5;34m0\u001b[0m │\n",
       "├──────────────────────────────────────┼─────────────────────────────┼─────────────────┤\n",
       "│ conv2d_3 (\u001b[38;5;33mConv2D\u001b[0m)                    │ (\u001b[38;5;45mNone\u001b[0m, \u001b[38;5;34m17\u001b[0m, \u001b[38;5;34m17\u001b[0m, \u001b[38;5;34m128\u001b[0m)         │         \u001b[38;5;34m262,272\u001b[0m │\n",
       "├──────────────────────────────────────┼─────────────────────────────┼─────────────────┤\n",
       "│ max_pooling2d_3 (\u001b[38;5;33mMaxPooling2D\u001b[0m)       │ (\u001b[38;5;45mNone\u001b[0m, \u001b[38;5;34m9\u001b[0m, \u001b[38;5;34m9\u001b[0m, \u001b[38;5;34m128\u001b[0m)           │               \u001b[38;5;34m0\u001b[0m │\n",
       "├──────────────────────────────────────┼─────────────────────────────┼─────────────────┤\n",
       "│ conv2d_4 (\u001b[38;5;33mConv2D\u001b[0m)                    │ (\u001b[38;5;45mNone\u001b[0m, \u001b[38;5;34m6\u001b[0m, \u001b[38;5;34m6\u001b[0m, \u001b[38;5;34m256\u001b[0m)           │         \u001b[38;5;34m524,544\u001b[0m │\n",
       "├──────────────────────────────────────┼─────────────────────────────┼─────────────────┤\n",
       "│ flatten (\u001b[38;5;33mFlatten\u001b[0m)                    │ (\u001b[38;5;45mNone\u001b[0m, \u001b[38;5;34m9216\u001b[0m)                │               \u001b[38;5;34m0\u001b[0m │\n",
       "├──────────────────────────────────────┼─────────────────────────────┼─────────────────┤\n",
       "│ dense (\u001b[38;5;33mDense\u001b[0m)                        │ (\u001b[38;5;45mNone\u001b[0m, \u001b[38;5;34m4096\u001b[0m)                │      \u001b[38;5;34m37,752,832\u001b[0m │\n",
       "└──────────────────────────────────────┴─────────────────────────────┴─────────────────┘\n"
      ]
     },
     "metadata": {},
     "output_type": "display_data"
    },
    {
     "data": {
      "text/html": [
       "<pre style=\"white-space:pre;overflow-x:auto;line-height:normal;font-family:Menlo,'DejaVu Sans Mono',consolas,'Courier New',monospace\"><span style=\"font-weight: bold\"> Total params: </span><span style=\"color: #00af00; text-decoration-color: #00af00\">38,960,448</span> (148.62 MB)\n",
       "</pre>\n"
      ],
      "text/plain": [
       "\u001b[1m Total params: \u001b[0m\u001b[38;5;34m38,960,448\u001b[0m (148.62 MB)\n"
      ]
     },
     "metadata": {},
     "output_type": "display_data"
    },
    {
     "data": {
      "text/html": [
       "<pre style=\"white-space:pre;overflow-x:auto;line-height:normal;font-family:Menlo,'DejaVu Sans Mono',consolas,'Courier New',monospace\"><span style=\"font-weight: bold\"> Trainable params: </span><span style=\"color: #00af00; text-decoration-color: #00af00\">38,960,448</span> (148.62 MB)\n",
       "</pre>\n"
      ],
      "text/plain": [
       "\u001b[1m Trainable params: \u001b[0m\u001b[38;5;34m38,960,448\u001b[0m (148.62 MB)\n"
      ]
     },
     "metadata": {},
     "output_type": "display_data"
    },
    {
     "data": {
      "text/html": [
       "<pre style=\"white-space:pre;overflow-x:auto;line-height:normal;font-family:Menlo,'DejaVu Sans Mono',consolas,'Courier New',monospace\"><span style=\"font-weight: bold\"> Non-trainable params: </span><span style=\"color: #00af00; text-decoration-color: #00af00\">0</span> (0.00 B)\n",
       "</pre>\n"
      ],
      "text/plain": [
       "\u001b[1m Non-trainable params: \u001b[0m\u001b[38;5;34m0\u001b[0m (0.00 B)\n"
      ]
     },
     "metadata": {},
     "output_type": "display_data"
    }
   ],
   "source": [
    "embedding.summary()"
   ]
  },
  {
   "cell_type": "markdown",
   "id": "dadb3bba-f82e-406b-8d11-5300b0e90bfd",
   "metadata": {},
   "source": [
    "## 4.2 Build distance layer"
   ]
  },
  {
   "cell_type": "code",
   "execution_count": 755,
   "id": "1e58505d-ff43-4fb7-a4d8-7bf1ada69db6",
   "metadata": {},
   "outputs": [],
   "source": [
    "# #Siamese L1 Distance class\n",
    "# class L1Dist(Layer):\n",
    "\n",
    "#     #init method - inheritance\n",
    "#     def __init__(self, **kwargs):\n",
    "#         super().__init__(**kwargs)\n",
    "\n",
    "#     #Similarity calculation\n",
    "#     def call(self, input_embedding, validation_embedding):\n",
    "#         return tf.math.abs(input_embedding - validation_embedding)\n",
    "\n",
    "#     def compute_output_shape(self, input_shape):\n",
    "#         # input_shape is a list/tuple of two shapes (they must match)\n",
    "#         return input_shape[0]"
   ]
  },
  {
   "cell_type": "code",
   "execution_count": 92,
   "id": "4446975d-2cd3-446d-9e35-65dcac94dbb3",
   "metadata": {},
   "outputs": [],
   "source": [
    "#Siamese L1 Distance class\n",
    "class L1Dist(tf.keras.layers.Layer):\n",
    "\n",
    "     #init method - inheritance\n",
    "    def __init__(self, **kwargs):\n",
    "        super().__init__(**kwargs)\n",
    "        \n",
    "     #Similarity calculation\n",
    "    def call(self, input_embedding, validation_embedding):\n",
    "        # if someone wrapped them in single‑element lists, unwrap here\n",
    "        if isinstance(input_embedding, (list, tuple)):\n",
    "            input_embedding = input_embedding[0]\n",
    "        if isinstance(validation_embedding, (list, tuple)):\n",
    "            validation_embedding = validation_embedding[0]\n",
    "        return tf.math.abs(input_embedding - validation_embedding)\n",
    "\n",
    "    def compute_output_shape(self, input_shape):\n",
    "        # input_shape is a list/tuple of two shapes (they must match)\n",
    "        return input_shape[0]\n"
   ]
  },
  {
   "cell_type": "code",
   "execution_count": 94,
   "id": "90c3a257-c5d3-432c-896d-16a5afaf6750",
   "metadata": {},
   "outputs": [],
   "source": [
    "l1 = L1Dist()"
   ]
  },
  {
   "cell_type": "code",
   "execution_count": 96,
   "id": "9e60214b-1d3a-4ede-b816-b22c83711a56",
   "metadata": {},
   "outputs": [
    {
     "data": {
      "text/plain": [
       "<L1Dist name=l1_dist, built=False>"
      ]
     },
     "execution_count": 96,
     "metadata": {},
     "output_type": "execute_result"
    }
   ],
   "source": [
    "l1"
   ]
  },
  {
   "cell_type": "markdown",
   "id": "f9276eff-c03b-48b2-97c4-b199dd0c3713",
   "metadata": {},
   "source": [
    "## 4.3 Make siamese Model"
   ]
  },
  {
   "cell_type": "code",
   "execution_count": 99,
   "id": "719586d2-c22d-428a-ad2c-ce6bea711b42",
   "metadata": {},
   "outputs": [],
   "source": [
    "input_image = Input(name='input_img', shape=(100, 100, 3))\n",
    "validation_image = Input(name='validation_img', shape=(100, 100, 3))"
   ]
  },
  {
   "cell_type": "code",
   "execution_count": 101,
   "id": "42229d08-a080-4731-9707-b33e2e723534",
   "metadata": {},
   "outputs": [],
   "source": [
    "inp_embedding = embedding(input_image)\n",
    "val_embedding = embedding(validation_image)"
   ]
  },
  {
   "cell_type": "code",
   "execution_count": 103,
   "id": "2f7d5721-29d9-424b-9ede-5f1c5a4b4d5c",
   "metadata": {},
   "outputs": [],
   "source": [
    "siamese_layer = L1Dist()"
   ]
  },
  {
   "cell_type": "code",
   "execution_count": 105,
   "id": "5898db1f-8902-4d72-bf93-61abc962e89b",
   "metadata": {},
   "outputs": [],
   "source": [
    "distances = siamese_layer(inp_embedding, val_embedding)"
   ]
  },
  {
   "cell_type": "code",
   "execution_count": 119,
   "id": "ecb147f8-5b5a-4571-90d6-5e172d3d1557",
   "metadata": {},
   "outputs": [],
   "source": [
    "classifier = Dense(1, activation='sigmoid')(distances)"
   ]
  },
  {
   "cell_type": "code",
   "execution_count": 109,
   "id": "d4c6d57c-4be5-4a7f-a7bd-e942e1aa3b07",
   "metadata": {},
   "outputs": [
    {
     "data": {
      "text/plain": [
       "<KerasTensor shape=(None, 1), dtype=float32, sparse=False, ragged=False, name=keras_tensor_14>"
      ]
     },
     "execution_count": 109,
     "metadata": {},
     "output_type": "execute_result"
    }
   ],
   "source": [
    "classifier"
   ]
  },
  {
   "cell_type": "code",
   "execution_count": 111,
   "id": "075bd142-dcec-47d2-90cd-8e0bd096fe93",
   "metadata": {},
   "outputs": [],
   "source": [
    "siamese_network = Model(inputs = [input_image, validation_image], outputs = classifier, name='SiameseNetwork')"
   ]
  },
  {
   "cell_type": "code",
   "execution_count": 113,
   "id": "48fbf2ee-f029-4de2-b313-f3ac32c59bb0",
   "metadata": {},
   "outputs": [
    {
     "data": {
      "text/html": [
       "<pre style=\"white-space:pre;overflow-x:auto;line-height:normal;font-family:Menlo,'DejaVu Sans Mono',consolas,'Courier New',monospace\"><span style=\"font-weight: bold\">Model: \"SiameseNetwork\"</span>\n",
       "</pre>\n"
      ],
      "text/plain": [
       "\u001b[1mModel: \"SiameseNetwork\"\u001b[0m\n"
      ]
     },
     "metadata": {},
     "output_type": "display_data"
    },
    {
     "data": {
      "text/html": [
       "<pre style=\"white-space:pre;overflow-x:auto;line-height:normal;font-family:Menlo,'DejaVu Sans Mono',consolas,'Courier New',monospace\">┏━━━━━━━━━━━━━━━━━━━━━━━━━━━━━━━┳━━━━━━━━━━━━━━━━━━━━━━━━━━━┳━━━━━━━━━━━━━━━━━┳━━━━━━━━━━━━━━━━━━━━━━━━━━━━┓\n",
       "┃<span style=\"font-weight: bold\"> Layer (type)                  </span>┃<span style=\"font-weight: bold\"> Output Shape              </span>┃<span style=\"font-weight: bold\">         Param # </span>┃<span style=\"font-weight: bold\"> Connected to               </span>┃\n",
       "┡━━━━━━━━━━━━━━━━━━━━━━━━━━━━━━━╇━━━━━━━━━━━━━━━━━━━━━━━━━━━╇━━━━━━━━━━━━━━━━━╇━━━━━━━━━━━━━━━━━━━━━━━━━━━━┩\n",
       "│ input_img (<span style=\"color: #0087ff; text-decoration-color: #0087ff\">InputLayer</span>)        │ (<span style=\"color: #00d7ff; text-decoration-color: #00d7ff\">None</span>, <span style=\"color: #00af00; text-decoration-color: #00af00\">100</span>, <span style=\"color: #00af00; text-decoration-color: #00af00\">100</span>, <span style=\"color: #00af00; text-decoration-color: #00af00\">3</span>)       │               <span style=\"color: #00af00; text-decoration-color: #00af00\">0</span> │ -                          │\n",
       "├───────────────────────────────┼───────────────────────────┼─────────────────┼────────────────────────────┤\n",
       "│ validation_img (<span style=\"color: #0087ff; text-decoration-color: #0087ff\">InputLayer</span>)   │ (<span style=\"color: #00d7ff; text-decoration-color: #00d7ff\">None</span>, <span style=\"color: #00af00; text-decoration-color: #00af00\">100</span>, <span style=\"color: #00af00; text-decoration-color: #00af00\">100</span>, <span style=\"color: #00af00; text-decoration-color: #00af00\">3</span>)       │               <span style=\"color: #00af00; text-decoration-color: #00af00\">0</span> │ -                          │\n",
       "├───────────────────────────────┼───────────────────────────┼─────────────────┼────────────────────────────┤\n",
       "│ embedding (<span style=\"color: #0087ff; text-decoration-color: #0087ff\">Functional</span>)        │ (<span style=\"color: #00d7ff; text-decoration-color: #00d7ff\">None</span>, <span style=\"color: #00af00; text-decoration-color: #00af00\">4096</span>)              │      <span style=\"color: #00af00; text-decoration-color: #00af00\">38,960,448</span> │ input_img[<span style=\"color: #00af00; text-decoration-color: #00af00\">0</span>][<span style=\"color: #00af00; text-decoration-color: #00af00\">0</span>],           │\n",
       "│                               │                           │                 │ validation_img[<span style=\"color: #00af00; text-decoration-color: #00af00\">0</span>][<span style=\"color: #00af00; text-decoration-color: #00af00\">0</span>]       │\n",
       "├───────────────────────────────┼───────────────────────────┼─────────────────┼────────────────────────────┤\n",
       "│ l1_dist_1 (<span style=\"color: #0087ff; text-decoration-color: #0087ff\">L1Dist</span>)            │ (<span style=\"color: #00d7ff; text-decoration-color: #00d7ff\">None</span>, <span style=\"color: #00af00; text-decoration-color: #00af00\">4096</span>)              │               <span style=\"color: #00af00; text-decoration-color: #00af00\">0</span> │ embedding[<span style=\"color: #00af00; text-decoration-color: #00af00\">0</span>][<span style=\"color: #00af00; text-decoration-color: #00af00\">0</span>],           │\n",
       "│                               │                           │                 │ embedding[<span style=\"color: #00af00; text-decoration-color: #00af00\">1</span>][<span style=\"color: #00af00; text-decoration-color: #00af00\">0</span>]            │\n",
       "├───────────────────────────────┼───────────────────────────┼─────────────────┼────────────────────────────┤\n",
       "│ dense_1 (<span style=\"color: #0087ff; text-decoration-color: #0087ff\">Dense</span>)               │ (<span style=\"color: #00d7ff; text-decoration-color: #00d7ff\">None</span>, <span style=\"color: #00af00; text-decoration-color: #00af00\">1</span>)                 │           <span style=\"color: #00af00; text-decoration-color: #00af00\">4,097</span> │ l1_dist_1[<span style=\"color: #00af00; text-decoration-color: #00af00\">0</span>][<span style=\"color: #00af00; text-decoration-color: #00af00\">0</span>]            │\n",
       "└───────────────────────────────┴───────────────────────────┴─────────────────┴────────────────────────────┘\n",
       "</pre>\n"
      ],
      "text/plain": [
       "┏━━━━━━━━━━━━━━━━━━━━━━━━━━━━━━━┳━━━━━━━━━━━━━━━━━━━━━━━━━━━┳━━━━━━━━━━━━━━━━━┳━━━━━━━━━━━━━━━━━━━━━━━━━━━━┓\n",
       "┃\u001b[1m \u001b[0m\u001b[1mLayer (type)                 \u001b[0m\u001b[1m \u001b[0m┃\u001b[1m \u001b[0m\u001b[1mOutput Shape             \u001b[0m\u001b[1m \u001b[0m┃\u001b[1m \u001b[0m\u001b[1m        Param #\u001b[0m\u001b[1m \u001b[0m┃\u001b[1m \u001b[0m\u001b[1mConnected to              \u001b[0m\u001b[1m \u001b[0m┃\n",
       "┡━━━━━━━━━━━━━━━━━━━━━━━━━━━━━━━╇━━━━━━━━━━━━━━━━━━━━━━━━━━━╇━━━━━━━━━━━━━━━━━╇━━━━━━━━━━━━━━━━━━━━━━━━━━━━┩\n",
       "│ input_img (\u001b[38;5;33mInputLayer\u001b[0m)        │ (\u001b[38;5;45mNone\u001b[0m, \u001b[38;5;34m100\u001b[0m, \u001b[38;5;34m100\u001b[0m, \u001b[38;5;34m3\u001b[0m)       │               \u001b[38;5;34m0\u001b[0m │ -                          │\n",
       "├───────────────────────────────┼───────────────────────────┼─────────────────┼────────────────────────────┤\n",
       "│ validation_img (\u001b[38;5;33mInputLayer\u001b[0m)   │ (\u001b[38;5;45mNone\u001b[0m, \u001b[38;5;34m100\u001b[0m, \u001b[38;5;34m100\u001b[0m, \u001b[38;5;34m3\u001b[0m)       │               \u001b[38;5;34m0\u001b[0m │ -                          │\n",
       "├───────────────────────────────┼───────────────────────────┼─────────────────┼────────────────────────────┤\n",
       "│ embedding (\u001b[38;5;33mFunctional\u001b[0m)        │ (\u001b[38;5;45mNone\u001b[0m, \u001b[38;5;34m4096\u001b[0m)              │      \u001b[38;5;34m38,960,448\u001b[0m │ input_img[\u001b[38;5;34m0\u001b[0m][\u001b[38;5;34m0\u001b[0m],           │\n",
       "│                               │                           │                 │ validation_img[\u001b[38;5;34m0\u001b[0m][\u001b[38;5;34m0\u001b[0m]       │\n",
       "├───────────────────────────────┼───────────────────────────┼─────────────────┼────────────────────────────┤\n",
       "│ l1_dist_1 (\u001b[38;5;33mL1Dist\u001b[0m)            │ (\u001b[38;5;45mNone\u001b[0m, \u001b[38;5;34m4096\u001b[0m)              │               \u001b[38;5;34m0\u001b[0m │ embedding[\u001b[38;5;34m0\u001b[0m][\u001b[38;5;34m0\u001b[0m],           │\n",
       "│                               │                           │                 │ embedding[\u001b[38;5;34m1\u001b[0m][\u001b[38;5;34m0\u001b[0m]            │\n",
       "├───────────────────────────────┼───────────────────────────┼─────────────────┼────────────────────────────┤\n",
       "│ dense_1 (\u001b[38;5;33mDense\u001b[0m)               │ (\u001b[38;5;45mNone\u001b[0m, \u001b[38;5;34m1\u001b[0m)                 │           \u001b[38;5;34m4,097\u001b[0m │ l1_dist_1[\u001b[38;5;34m0\u001b[0m][\u001b[38;5;34m0\u001b[0m]            │\n",
       "└───────────────────────────────┴───────────────────────────┴─────────────────┴────────────────────────────┘\n"
      ]
     },
     "metadata": {},
     "output_type": "display_data"
    },
    {
     "data": {
      "text/html": [
       "<pre style=\"white-space:pre;overflow-x:auto;line-height:normal;font-family:Menlo,'DejaVu Sans Mono',consolas,'Courier New',monospace\"><span style=\"font-weight: bold\"> Total params: </span><span style=\"color: #00af00; text-decoration-color: #00af00\">38,964,545</span> (148.64 MB)\n",
       "</pre>\n"
      ],
      "text/plain": [
       "\u001b[1m Total params: \u001b[0m\u001b[38;5;34m38,964,545\u001b[0m (148.64 MB)\n"
      ]
     },
     "metadata": {},
     "output_type": "display_data"
    },
    {
     "data": {
      "text/html": [
       "<pre style=\"white-space:pre;overflow-x:auto;line-height:normal;font-family:Menlo,'DejaVu Sans Mono',consolas,'Courier New',monospace\"><span style=\"font-weight: bold\"> Trainable params: </span><span style=\"color: #00af00; text-decoration-color: #00af00\">38,964,545</span> (148.64 MB)\n",
       "</pre>\n"
      ],
      "text/plain": [
       "\u001b[1m Trainable params: \u001b[0m\u001b[38;5;34m38,964,545\u001b[0m (148.64 MB)\n"
      ]
     },
     "metadata": {},
     "output_type": "display_data"
    },
    {
     "data": {
      "text/html": [
       "<pre style=\"white-space:pre;overflow-x:auto;line-height:normal;font-family:Menlo,'DejaVu Sans Mono',consolas,'Courier New',monospace\"><span style=\"font-weight: bold\"> Non-trainable params: </span><span style=\"color: #00af00; text-decoration-color: #00af00\">0</span> (0.00 B)\n",
       "</pre>\n"
      ],
      "text/plain": [
       "\u001b[1m Non-trainable params: \u001b[0m\u001b[38;5;34m0\u001b[0m (0.00 B)\n"
      ]
     },
     "metadata": {},
     "output_type": "display_data"
    }
   ],
   "source": [
    "siamese_network.summary()"
   ]
  },
  {
   "cell_type": "code",
   "execution_count": 123,
   "id": "510f370e-2920-4bce-994b-f305d14e0383",
   "metadata": {},
   "outputs": [],
   "source": [
    "def make_siamese_model():\n",
    "\n",
    "    #anchor image input in the network\n",
    "    input_image = Input(name='input_img', shape=(100, 100, 3))\n",
    "\n",
    "    #validation image input in the network\n",
    "    validation_image = Input(name='validation_img', shape=(100, 100, 3))\n",
    "\n",
    "    #combined siamese distance components\n",
    "    siamese_layer = L1Dist()\n",
    "    siamese_layer._name = 'distance'\n",
    "    distances = siamese_layer(embedding(input_image), embedding(validation_image))\n",
    "\n",
    "    #classification layer\n",
    "    classifier = Dense(1, activation='sigmoid')(distances)\n",
    "\n",
    "    return Model(inputs = [input_image, validation_image], outputs = classifier, name='SiameseNetwork')"
   ]
  },
  {
   "cell_type": "code",
   "execution_count": 125,
   "id": "40773c8e-c595-435c-879d-94a1da111e11",
   "metadata": {},
   "outputs": [],
   "source": [
    "siamese_model = make_siamese_model()"
   ]
  },
  {
   "cell_type": "code",
   "execution_count": 127,
   "id": "8585d921-134e-4098-98f3-918ccbbeb486",
   "metadata": {},
   "outputs": [
    {
     "data": {
      "text/html": [
       "<pre style=\"white-space:pre;overflow-x:auto;line-height:normal;font-family:Menlo,'DejaVu Sans Mono',consolas,'Courier New',monospace\"><span style=\"font-weight: bold\">Model: \"SiameseNetwork\"</span>\n",
       "</pre>\n"
      ],
      "text/plain": [
       "\u001b[1mModel: \"SiameseNetwork\"\u001b[0m\n"
      ]
     },
     "metadata": {},
     "output_type": "display_data"
    },
    {
     "data": {
      "text/html": [
       "<pre style=\"white-space:pre;overflow-x:auto;line-height:normal;font-family:Menlo,'DejaVu Sans Mono',consolas,'Courier New',monospace\">┏━━━━━━━━━━━━━━━━━━━━━━━━━━━━━━━┳━━━━━━━━━━━━━━━━━━━━━━━━━━━┳━━━━━━━━━━━━━━━━━┳━━━━━━━━━━━━━━━━━━━━━━━━━━━━┓\n",
       "┃<span style=\"font-weight: bold\"> Layer (type)                  </span>┃<span style=\"font-weight: bold\"> Output Shape              </span>┃<span style=\"font-weight: bold\">         Param # </span>┃<span style=\"font-weight: bold\"> Connected to               </span>┃\n",
       "┡━━━━━━━━━━━━━━━━━━━━━━━━━━━━━━━╇━━━━━━━━━━━━━━━━━━━━━━━━━━━╇━━━━━━━━━━━━━━━━━╇━━━━━━━━━━━━━━━━━━━━━━━━━━━━┩\n",
       "│ input_img (<span style=\"color: #0087ff; text-decoration-color: #0087ff\">InputLayer</span>)        │ (<span style=\"color: #00d7ff; text-decoration-color: #00d7ff\">None</span>, <span style=\"color: #00af00; text-decoration-color: #00af00\">100</span>, <span style=\"color: #00af00; text-decoration-color: #00af00\">100</span>, <span style=\"color: #00af00; text-decoration-color: #00af00\">3</span>)       │               <span style=\"color: #00af00; text-decoration-color: #00af00\">0</span> │ -                          │\n",
       "├───────────────────────────────┼───────────────────────────┼─────────────────┼────────────────────────────┤\n",
       "│ validation_img (<span style=\"color: #0087ff; text-decoration-color: #0087ff\">InputLayer</span>)   │ (<span style=\"color: #00d7ff; text-decoration-color: #00d7ff\">None</span>, <span style=\"color: #00af00; text-decoration-color: #00af00\">100</span>, <span style=\"color: #00af00; text-decoration-color: #00af00\">100</span>, <span style=\"color: #00af00; text-decoration-color: #00af00\">3</span>)       │               <span style=\"color: #00af00; text-decoration-color: #00af00\">0</span> │ -                          │\n",
       "├───────────────────────────────┼───────────────────────────┼─────────────────┼────────────────────────────┤\n",
       "│ embedding (<span style=\"color: #0087ff; text-decoration-color: #0087ff\">Functional</span>)        │ (<span style=\"color: #00d7ff; text-decoration-color: #00d7ff\">None</span>, <span style=\"color: #00af00; text-decoration-color: #00af00\">4096</span>)              │      <span style=\"color: #00af00; text-decoration-color: #00af00\">38,960,448</span> │ input_img[<span style=\"color: #00af00; text-decoration-color: #00af00\">0</span>][<span style=\"color: #00af00; text-decoration-color: #00af00\">0</span>],           │\n",
       "│                               │                           │                 │ validation_img[<span style=\"color: #00af00; text-decoration-color: #00af00\">0</span>][<span style=\"color: #00af00; text-decoration-color: #00af00\">0</span>]       │\n",
       "├───────────────────────────────┼───────────────────────────┼─────────────────┼────────────────────────────┤\n",
       "│ l1_dist_2 (<span style=\"color: #0087ff; text-decoration-color: #0087ff\">L1Dist</span>)            │ (<span style=\"color: #00d7ff; text-decoration-color: #00d7ff\">None</span>, <span style=\"color: #00af00; text-decoration-color: #00af00\">4096</span>)              │               <span style=\"color: #00af00; text-decoration-color: #00af00\">0</span> │ embedding[<span style=\"color: #00af00; text-decoration-color: #00af00\">2</span>][<span style=\"color: #00af00; text-decoration-color: #00af00\">0</span>],           │\n",
       "│                               │                           │                 │ embedding[<span style=\"color: #00af00; text-decoration-color: #00af00\">3</span>][<span style=\"color: #00af00; text-decoration-color: #00af00\">0</span>]            │\n",
       "├───────────────────────────────┼───────────────────────────┼─────────────────┼────────────────────────────┤\n",
       "│ dense_3 (<span style=\"color: #0087ff; text-decoration-color: #0087ff\">Dense</span>)               │ (<span style=\"color: #00d7ff; text-decoration-color: #00d7ff\">None</span>, <span style=\"color: #00af00; text-decoration-color: #00af00\">1</span>)                 │           <span style=\"color: #00af00; text-decoration-color: #00af00\">4,097</span> │ l1_dist_2[<span style=\"color: #00af00; text-decoration-color: #00af00\">0</span>][<span style=\"color: #00af00; text-decoration-color: #00af00\">0</span>]            │\n",
       "└───────────────────────────────┴───────────────────────────┴─────────────────┴────────────────────────────┘\n",
       "</pre>\n"
      ],
      "text/plain": [
       "┏━━━━━━━━━━━━━━━━━━━━━━━━━━━━━━━┳━━━━━━━━━━━━━━━━━━━━━━━━━━━┳━━━━━━━━━━━━━━━━━┳━━━━━━━━━━━━━━━━━━━━━━━━━━━━┓\n",
       "┃\u001b[1m \u001b[0m\u001b[1mLayer (type)                 \u001b[0m\u001b[1m \u001b[0m┃\u001b[1m \u001b[0m\u001b[1mOutput Shape             \u001b[0m\u001b[1m \u001b[0m┃\u001b[1m \u001b[0m\u001b[1m        Param #\u001b[0m\u001b[1m \u001b[0m┃\u001b[1m \u001b[0m\u001b[1mConnected to              \u001b[0m\u001b[1m \u001b[0m┃\n",
       "┡━━━━━━━━━━━━━━━━━━━━━━━━━━━━━━━╇━━━━━━━━━━━━━━━━━━━━━━━━━━━╇━━━━━━━━━━━━━━━━━╇━━━━━━━━━━━━━━━━━━━━━━━━━━━━┩\n",
       "│ input_img (\u001b[38;5;33mInputLayer\u001b[0m)        │ (\u001b[38;5;45mNone\u001b[0m, \u001b[38;5;34m100\u001b[0m, \u001b[38;5;34m100\u001b[0m, \u001b[38;5;34m3\u001b[0m)       │               \u001b[38;5;34m0\u001b[0m │ -                          │\n",
       "├───────────────────────────────┼───────────────────────────┼─────────────────┼────────────────────────────┤\n",
       "│ validation_img (\u001b[38;5;33mInputLayer\u001b[0m)   │ (\u001b[38;5;45mNone\u001b[0m, \u001b[38;5;34m100\u001b[0m, \u001b[38;5;34m100\u001b[0m, \u001b[38;5;34m3\u001b[0m)       │               \u001b[38;5;34m0\u001b[0m │ -                          │\n",
       "├───────────────────────────────┼───────────────────────────┼─────────────────┼────────────────────────────┤\n",
       "│ embedding (\u001b[38;5;33mFunctional\u001b[0m)        │ (\u001b[38;5;45mNone\u001b[0m, \u001b[38;5;34m4096\u001b[0m)              │      \u001b[38;5;34m38,960,448\u001b[0m │ input_img[\u001b[38;5;34m0\u001b[0m][\u001b[38;5;34m0\u001b[0m],           │\n",
       "│                               │                           │                 │ validation_img[\u001b[38;5;34m0\u001b[0m][\u001b[38;5;34m0\u001b[0m]       │\n",
       "├───────────────────────────────┼───────────────────────────┼─────────────────┼────────────────────────────┤\n",
       "│ l1_dist_2 (\u001b[38;5;33mL1Dist\u001b[0m)            │ (\u001b[38;5;45mNone\u001b[0m, \u001b[38;5;34m4096\u001b[0m)              │               \u001b[38;5;34m0\u001b[0m │ embedding[\u001b[38;5;34m2\u001b[0m][\u001b[38;5;34m0\u001b[0m],           │\n",
       "│                               │                           │                 │ embedding[\u001b[38;5;34m3\u001b[0m][\u001b[38;5;34m0\u001b[0m]            │\n",
       "├───────────────────────────────┼───────────────────────────┼─────────────────┼────────────────────────────┤\n",
       "│ dense_3 (\u001b[38;5;33mDense\u001b[0m)               │ (\u001b[38;5;45mNone\u001b[0m, \u001b[38;5;34m1\u001b[0m)                 │           \u001b[38;5;34m4,097\u001b[0m │ l1_dist_2[\u001b[38;5;34m0\u001b[0m][\u001b[38;5;34m0\u001b[0m]            │\n",
       "└───────────────────────────────┴───────────────────────────┴─────────────────┴────────────────────────────┘\n"
      ]
     },
     "metadata": {},
     "output_type": "display_data"
    },
    {
     "data": {
      "text/html": [
       "<pre style=\"white-space:pre;overflow-x:auto;line-height:normal;font-family:Menlo,'DejaVu Sans Mono',consolas,'Courier New',monospace\"><span style=\"font-weight: bold\"> Total params: </span><span style=\"color: #00af00; text-decoration-color: #00af00\">38,964,545</span> (148.64 MB)\n",
       "</pre>\n"
      ],
      "text/plain": [
       "\u001b[1m Total params: \u001b[0m\u001b[38;5;34m38,964,545\u001b[0m (148.64 MB)\n"
      ]
     },
     "metadata": {},
     "output_type": "display_data"
    },
    {
     "data": {
      "text/html": [
       "<pre style=\"white-space:pre;overflow-x:auto;line-height:normal;font-family:Menlo,'DejaVu Sans Mono',consolas,'Courier New',monospace\"><span style=\"font-weight: bold\"> Trainable params: </span><span style=\"color: #00af00; text-decoration-color: #00af00\">38,964,545</span> (148.64 MB)\n",
       "</pre>\n"
      ],
      "text/plain": [
       "\u001b[1m Trainable params: \u001b[0m\u001b[38;5;34m38,964,545\u001b[0m (148.64 MB)\n"
      ]
     },
     "metadata": {},
     "output_type": "display_data"
    },
    {
     "data": {
      "text/html": [
       "<pre style=\"white-space:pre;overflow-x:auto;line-height:normal;font-family:Menlo,'DejaVu Sans Mono',consolas,'Courier New',monospace\"><span style=\"font-weight: bold\"> Non-trainable params: </span><span style=\"color: #00af00; text-decoration-color: #00af00\">0</span> (0.00 B)\n",
       "</pre>\n"
      ],
      "text/plain": [
       "\u001b[1m Non-trainable params: \u001b[0m\u001b[38;5;34m0\u001b[0m (0.00 B)\n"
      ]
     },
     "metadata": {},
     "output_type": "display_data"
    }
   ],
   "source": [
    "siamese_model.summary()"
   ]
  },
  {
   "cell_type": "markdown",
   "id": "a22e7f01-3140-4422-9aad-3f1e5e27fa22",
   "metadata": {},
   "source": [
    "## 5.Training"
   ]
  },
  {
   "cell_type": "markdown",
   "id": "e6c3cc68-68fb-4691-a9d5-52012b9f2f63",
   "metadata": {},
   "source": [
    "## 5.1 Setup loss and optimizer"
   ]
  },
  {
   "cell_type": "code",
   "execution_count": 131,
   "id": "df182438-7e6d-4e2b-aa5c-2d0deadbf509",
   "metadata": {},
   "outputs": [],
   "source": [
    "binary_cross_loss = tf.losses.BinaryCrossentropy()"
   ]
  },
  {
   "cell_type": "code",
   "execution_count": 133,
   "id": "7f7753b3-3b64-4005-bc2e-86c9d8972d70",
   "metadata": {},
   "outputs": [],
   "source": [
    "opt = tf.keras.optimizers.Adam(1e-4) #0.0001"
   ]
  },
  {
   "cell_type": "markdown",
   "id": "d79b838c-0ff4-4a36-85dc-2b58d0c6862a",
   "metadata": {},
   "source": [
    "## 5.2 Establish checkpoints"
   ]
  },
  {
   "cell_type": "code",
   "execution_count": 166,
   "id": "44e7cf9e-f5fb-495c-924e-ed4c77989262",
   "metadata": {},
   "outputs": [],
   "source": [
    "checkpoint_dir = './training_chechpoints'\n",
    "checkpoint_prefix = os.path.join(checkpoint_dir, 'ckpt')\n",
    "checkpoint = tf.train.Checkpoint(opt = opt, siamese_model = siamese_model) "
   ]
  },
  {
   "cell_type": "markdown",
   "id": "588559f1-fef0-4140-b1b9-9655e30cd3a2",
   "metadata": {},
   "source": [
    "## 5.3 Build train Step function"
   ]
  },
  {
   "cell_type": "code",
   "execution_count": 136,
   "id": "ce3bcf75-57de-4ddb-b35a-e4252c676c65",
   "metadata": {},
   "outputs": [],
   "source": [
    "test_batch = test_data.as_numpy_iterator()"
   ]
  },
  {
   "cell_type": "code",
   "execution_count": 138,
   "id": "5b4e7a3a-22e0-47cd-9b4d-d1f90dd19293",
   "metadata": {},
   "outputs": [],
   "source": [
    "batch_1 = test_batch.next()"
   ]
  },
  {
   "cell_type": "code",
   "execution_count": 140,
   "id": "cc9c7ca6-1f7c-46fa-8f90-2f56d3ec6775",
   "metadata": {},
   "outputs": [
    {
     "data": {
      "text/plain": [
       "3"
      ]
     },
     "execution_count": 140,
     "metadata": {},
     "output_type": "execute_result"
    }
   ],
   "source": [
    "len(batch_1)"
   ]
  },
  {
   "cell_type": "code",
   "execution_count": 142,
   "id": "66e2c579-5f46-431b-8f35-9efc5cd1af8e",
   "metadata": {},
   "outputs": [],
   "source": [
    "@tf.function\n",
    "def train_step(batch):\n",
    "    with tf.GradientTape() as tape:\n",
    "        # Unpack inputs and labels\n",
    "        input_img, val_img = batch[:2]\n",
    "        y = batch[2]  # assuming third element is the label\n",
    "\n",
    "        # Forward pass\n",
    "        yhat = siamese_model([input_img, val_img], training=True)\n",
    "\n",
    "        # Compute loss\n",
    "        loss = binary_cross_loss(y, yhat)\n",
    "\n",
    "    print(\"Loss:\", loss)\n",
    "\n",
    "    # Backprop + update weights\n",
    "    grad = tape.gradient(loss, siamese_model.trainable_variables)\n",
    "    opt.apply_gradients(zip(grad, siamese_model.trainable_variables))\n",
    "\n",
    "    return loss"
   ]
  },
  {
   "cell_type": "markdown",
   "id": "363e047f-059d-4f03-aa89-40d12accf443",
   "metadata": {},
   "source": [
    "## 5.4 Build training loop"
   ]
  },
  {
   "cell_type": "code",
   "execution_count": 144,
   "id": "8298fe12-d89d-4586-9cf1-12508edb691e",
   "metadata": {},
   "outputs": [],
   "source": [
    "def train(data, EPOCHS):\n",
    "    #Loop through epochs\n",
    "    for epoch in range (1, EPOCHS+1):\n",
    "        print('\\n Epoch {}/{}'.format(epoch, EPOCHS))\n",
    "        progbar = tf.keras.utils.Progbar(len(data))\n",
    "\n",
    "        #Loop through each batch\n",
    "        for idx, batch in enumerate(data):\n",
    "            #run train step here\n",
    "            train_step(batch)\n",
    "            progbar.update(idx+1)\n",
    "\n",
    "        #Save checkpoint\n",
    "        if epoch % 10 == 0:\n",
    "            checkpoint.save(file_prefix=checkpoint_prefix)"
   ]
  },
  {
   "cell_type": "markdown",
   "id": "8bdfa774-c317-42de-8f5c-69740554ae42",
   "metadata": {},
   "source": [
    "## 5.5 Train the model"
   ]
  },
  {
   "cell_type": "code",
   "execution_count": 147,
   "id": "02c07127-f060-4b94-a54c-218364f376db",
   "metadata": {},
   "outputs": [],
   "source": [
    "EPOCHS = 50"
   ]
  },
  {
   "cell_type": "code",
   "execution_count": 226,
   "id": "e796cf78-343a-45c5-bdd7-88c96069dc8e",
   "metadata": {},
   "outputs": [
    {
     "name": "stdout",
     "output_type": "stream",
     "text": [
      "\n",
      " Epoch 1/50\n",
      "\u001b[1m38/38\u001b[0m \u001b[32m━━━━━━━━━━━━━━━━━━━━\u001b[0m\u001b[37m\u001b[0m \u001b[1m159s\u001b[0m 4s/step\n",
      "\n",
      " Epoch 2/50\n",
      "\u001b[1m38/38\u001b[0m \u001b[32m━━━━━━━━━━━━━━━━━━━━\u001b[0m\u001b[37m\u001b[0m \u001b[1m158s\u001b[0m 4s/step\n",
      "\n",
      " Epoch 3/50\n",
      "\u001b[1m38/38\u001b[0m \u001b[32m━━━━━━━━━━━━━━━━━━━━\u001b[0m\u001b[37m\u001b[0m \u001b[1m168s\u001b[0m 4s/step\n",
      "\n",
      " Epoch 4/50\n",
      "\u001b[1m38/38\u001b[0m \u001b[32m━━━━━━━━━━━━━━━━━━━━\u001b[0m\u001b[37m\u001b[0m \u001b[1m156s\u001b[0m 4s/step\n",
      "\n",
      " Epoch 5/50\n",
      "\u001b[1m38/38\u001b[0m \u001b[32m━━━━━━━━━━━━━━━━━━━━\u001b[0m\u001b[37m\u001b[0m \u001b[1m167s\u001b[0m 4s/step\n",
      "\n",
      " Epoch 6/50\n",
      "\u001b[1m38/38\u001b[0m \u001b[32m━━━━━━━━━━━━━━━━━━━━\u001b[0m\u001b[37m\u001b[0m \u001b[1m162s\u001b[0m 4s/step\n",
      "\n",
      " Epoch 7/50\n",
      "\u001b[1m38/38\u001b[0m \u001b[32m━━━━━━━━━━━━━━━━━━━━\u001b[0m\u001b[37m\u001b[0m \u001b[1m167s\u001b[0m 4s/step\n",
      "\n",
      " Epoch 8/50\n",
      "\u001b[1m38/38\u001b[0m \u001b[32m━━━━━━━━━━━━━━━━━━━━\u001b[0m\u001b[37m\u001b[0m \u001b[1m162s\u001b[0m 4s/step\n",
      "\n",
      " Epoch 9/50\n",
      "\u001b[1m38/38\u001b[0m \u001b[32m━━━━━━━━━━━━━━━━━━━━\u001b[0m\u001b[37m\u001b[0m \u001b[1m168s\u001b[0m 4s/step\n",
      "\n",
      " Epoch 10/50\n",
      "\u001b[1m38/38\u001b[0m \u001b[32m━━━━━━━━━━━━━━━━━━━━\u001b[0m\u001b[37m\u001b[0m \u001b[1m169s\u001b[0m 4s/step\n",
      "\n",
      " Epoch 11/50\n",
      "\u001b[1m38/38\u001b[0m \u001b[32m━━━━━━━━━━━━━━━━━━━━\u001b[0m\u001b[37m\u001b[0m \u001b[1m168s\u001b[0m 4s/step\n",
      "\n",
      " Epoch 12/50\n",
      "\u001b[1m38/38\u001b[0m \u001b[32m━━━━━━━━━━━━━━━━━━━━\u001b[0m\u001b[37m\u001b[0m \u001b[1m165s\u001b[0m 4s/step\n",
      "\n",
      " Epoch 13/50\n",
      "\u001b[1m38/38\u001b[0m \u001b[32m━━━━━━━━━━━━━━━━━━━━\u001b[0m\u001b[37m\u001b[0m \u001b[1m165s\u001b[0m 4s/step\n",
      "\n",
      " Epoch 14/50\n",
      "\u001b[1m38/38\u001b[0m \u001b[32m━━━━━━━━━━━━━━━━━━━━\u001b[0m\u001b[37m\u001b[0m \u001b[1m163s\u001b[0m 4s/step\n",
      "\n",
      " Epoch 15/50\n",
      "\u001b[1m38/38\u001b[0m \u001b[32m━━━━━━━━━━━━━━━━━━━━\u001b[0m\u001b[37m\u001b[0m \u001b[1m167s\u001b[0m 4s/step\n",
      "\n",
      " Epoch 16/50\n",
      "\u001b[1m38/38\u001b[0m \u001b[32m━━━━━━━━━━━━━━━━━━━━\u001b[0m\u001b[37m\u001b[0m \u001b[1m160s\u001b[0m 4s/step\n",
      "\n",
      " Epoch 17/50\n",
      "\u001b[1m38/38\u001b[0m \u001b[32m━━━━━━━━━━━━━━━━━━━━\u001b[0m\u001b[37m\u001b[0m \u001b[1m172s\u001b[0m 5s/step\n",
      "\n",
      " Epoch 18/50\n",
      "\u001b[1m38/38\u001b[0m \u001b[32m━━━━━━━━━━━━━━━━━━━━\u001b[0m\u001b[37m\u001b[0m \u001b[1m176s\u001b[0m 5s/step\n",
      "\n",
      " Epoch 19/50\n",
      "\u001b[1m38/38\u001b[0m \u001b[32m━━━━━━━━━━━━━━━━━━━━\u001b[0m\u001b[37m\u001b[0m \u001b[1m142s\u001b[0m 4s/step\n",
      "\n",
      " Epoch 20/50\n",
      "\u001b[1m38/38\u001b[0m \u001b[32m━━━━━━━━━━━━━━━━━━━━\u001b[0m\u001b[37m\u001b[0m \u001b[1m162s\u001b[0m 4s/step\n",
      "\n",
      " Epoch 21/50\n",
      "\u001b[1m38/38\u001b[0m \u001b[32m━━━━━━━━━━━━━━━━━━━━\u001b[0m\u001b[37m\u001b[0m \u001b[1m146s\u001b[0m 4s/step\n",
      "\n",
      " Epoch 22/50\n",
      "\u001b[1m38/38\u001b[0m \u001b[32m━━━━━━━━━━━━━━━━━━━━\u001b[0m\u001b[37m\u001b[0m \u001b[1m171s\u001b[0m 5s/step\n",
      "\n",
      " Epoch 23/50\n",
      "\u001b[1m38/38\u001b[0m \u001b[32m━━━━━━━━━━━━━━━━━━━━\u001b[0m\u001b[37m\u001b[0m \u001b[1m168s\u001b[0m 4s/step\n",
      "\n",
      " Epoch 24/50\n",
      "\u001b[1m38/38\u001b[0m \u001b[32m━━━━━━━━━━━━━━━━━━━━\u001b[0m\u001b[37m\u001b[0m \u001b[1m168s\u001b[0m 4s/step\n",
      "\n",
      " Epoch 25/50\n",
      "\u001b[1m38/38\u001b[0m \u001b[32m━━━━━━━━━━━━━━━━━━━━\u001b[0m\u001b[37m\u001b[0m \u001b[1m170s\u001b[0m 4s/step\n",
      "\n",
      " Epoch 26/50\n",
      "\u001b[1m38/38\u001b[0m \u001b[32m━━━━━━━━━━━━━━━━━━━━\u001b[0m\u001b[37m\u001b[0m \u001b[1m171s\u001b[0m 4s/step\n",
      "\n",
      " Epoch 27/50\n",
      "\u001b[1m38/38\u001b[0m \u001b[32m━━━━━━━━━━━━━━━━━━━━\u001b[0m\u001b[37m\u001b[0m \u001b[1m163s\u001b[0m 4s/step\n",
      "\n",
      " Epoch 28/50\n",
      "\u001b[1m38/38\u001b[0m \u001b[32m━━━━━━━━━━━━━━━━━━━━\u001b[0m\u001b[37m\u001b[0m \u001b[1m152s\u001b[0m 4s/step\n",
      "\n",
      " Epoch 29/50\n",
      "\u001b[1m38/38\u001b[0m \u001b[32m━━━━━━━━━━━━━━━━━━━━\u001b[0m\u001b[37m\u001b[0m \u001b[1m123s\u001b[0m 3s/step\n",
      "\n",
      " Epoch 30/50\n",
      "\u001b[1m38/38\u001b[0m \u001b[32m━━━━━━━━━━━━━━━━━━━━\u001b[0m\u001b[37m\u001b[0m \u001b[1m141s\u001b[0m 4s/step\n",
      "\n",
      " Epoch 31/50\n",
      "\u001b[1m38/38\u001b[0m \u001b[32m━━━━━━━━━━━━━━━━━━━━\u001b[0m\u001b[37m\u001b[0m \u001b[1m139s\u001b[0m 4s/step\n",
      "\n",
      " Epoch 32/50\n",
      "\u001b[1m38/38\u001b[0m \u001b[32m━━━━━━━━━━━━━━━━━━━━\u001b[0m\u001b[37m\u001b[0m \u001b[1m167s\u001b[0m 4s/step\n",
      "\n",
      " Epoch 33/50\n",
      "\u001b[1m38/38\u001b[0m \u001b[32m━━━━━━━━━━━━━━━━━━━━\u001b[0m\u001b[37m\u001b[0m \u001b[1m168s\u001b[0m 4s/step\n",
      "\n",
      " Epoch 34/50\n",
      "\u001b[1m38/38\u001b[0m \u001b[32m━━━━━━━━━━━━━━━━━━━━\u001b[0m\u001b[37m\u001b[0m \u001b[1m166s\u001b[0m 4s/step\n",
      "\n",
      " Epoch 35/50\n",
      "\u001b[1m38/38\u001b[0m \u001b[32m━━━━━━━━━━━━━━━━━━━━\u001b[0m\u001b[37m\u001b[0m \u001b[1m143s\u001b[0m 4s/step\n",
      "\n",
      " Epoch 36/50\n",
      "\u001b[1m38/38\u001b[0m \u001b[32m━━━━━━━━━━━━━━━━━━━━\u001b[0m\u001b[37m\u001b[0m \u001b[1m157s\u001b[0m 4s/step\n",
      "\n",
      " Epoch 37/50\n",
      "\u001b[1m38/38\u001b[0m \u001b[32m━━━━━━━━━━━━━━━━━━━━\u001b[0m\u001b[37m\u001b[0m \u001b[1m154s\u001b[0m 4s/step\n",
      "\n",
      " Epoch 38/50\n",
      "\u001b[1m38/38\u001b[0m \u001b[32m━━━━━━━━━━━━━━━━━━━━\u001b[0m\u001b[37m\u001b[0m \u001b[1m160s\u001b[0m 4s/step\n",
      "\n",
      " Epoch 39/50\n",
      "\u001b[1m38/38\u001b[0m \u001b[32m━━━━━━━━━━━━━━━━━━━━\u001b[0m\u001b[37m\u001b[0m \u001b[1m177s\u001b[0m 5s/step\n",
      "\n",
      " Epoch 40/50\n",
      "\u001b[1m38/38\u001b[0m \u001b[32m━━━━━━━━━━━━━━━━━━━━\u001b[0m\u001b[37m\u001b[0m \u001b[1m159s\u001b[0m 4s/step\n",
      "\n",
      " Epoch 41/50\n",
      "\u001b[1m38/38\u001b[0m \u001b[32m━━━━━━━━━━━━━━━━━━━━\u001b[0m\u001b[37m\u001b[0m \u001b[1m154s\u001b[0m 4s/step\n",
      "\n",
      " Epoch 42/50\n",
      "\u001b[1m38/38\u001b[0m \u001b[32m━━━━━━━━━━━━━━━━━━━━\u001b[0m\u001b[37m\u001b[0m \u001b[1m149s\u001b[0m 4s/step\n",
      "\n",
      " Epoch 43/50\n",
      "\u001b[1m38/38\u001b[0m \u001b[32m━━━━━━━━━━━━━━━━━━━━\u001b[0m\u001b[37m\u001b[0m \u001b[1m156s\u001b[0m 4s/step\n",
      "\n",
      " Epoch 44/50\n",
      "\u001b[1m38/38\u001b[0m \u001b[32m━━━━━━━━━━━━━━━━━━━━\u001b[0m\u001b[37m\u001b[0m \u001b[1m174s\u001b[0m 5s/step\n",
      "\n",
      " Epoch 45/50\n",
      "\u001b[1m38/38\u001b[0m \u001b[32m━━━━━━━━━━━━━━━━━━━━\u001b[0m\u001b[37m\u001b[0m \u001b[1m151s\u001b[0m 4s/step\n",
      "\n",
      " Epoch 46/50\n",
      "\u001b[1m38/38\u001b[0m \u001b[32m━━━━━━━━━━━━━━━━━━━━\u001b[0m\u001b[37m\u001b[0m \u001b[1m159s\u001b[0m 4s/step\n",
      "\n",
      " Epoch 47/50\n",
      "\u001b[1m38/38\u001b[0m \u001b[32m━━━━━━━━━━━━━━━━━━━━\u001b[0m\u001b[37m\u001b[0m \u001b[1m150s\u001b[0m 4s/step\n",
      "\n",
      " Epoch 48/50\n",
      "\u001b[1m38/38\u001b[0m \u001b[32m━━━━━━━━━━━━━━━━━━━━\u001b[0m\u001b[37m\u001b[0m \u001b[1m153s\u001b[0m 4s/step\n",
      "\n",
      " Epoch 49/50\n",
      "\u001b[1m38/38\u001b[0m \u001b[32m━━━━━━━━━━━━━━━━━━━━\u001b[0m\u001b[37m\u001b[0m \u001b[1m148s\u001b[0m 4s/step\n",
      "\n",
      " Epoch 50/50\n",
      "\u001b[1m38/38\u001b[0m \u001b[32m━━━━━━━━━━━━━━━━━━━━\u001b[0m\u001b[37m\u001b[0m \u001b[1m168s\u001b[0m 4s/step\n"
     ]
    }
   ],
   "source": [
    "train(train_data, EPOCHS)"
   ]
  },
  {
   "cell_type": "markdown",
   "id": "1fdb8e41-9c39-4cd3-b133-48f44a3ea3ad",
   "metadata": {},
   "source": [
    "## 6.Evaluate model"
   ]
  },
  {
   "cell_type": "markdown",
   "id": "c29d5eb6-c3cb-49cc-8e1a-a7a1a07b1da4",
   "metadata": {},
   "source": [
    "## 6.1 Import metrics"
   ]
  },
  {
   "cell_type": "code",
   "execution_count": 228,
   "id": "80ac6179-530f-4da4-93ee-56abdcf3dddd",
   "metadata": {},
   "outputs": [],
   "source": [
    "#Import metric calculation\n",
    "from tensorflow.keras.metrics import Precision, Recall"
   ]
  },
  {
   "cell_type": "markdown",
   "id": "6e84d07d-bcfa-4031-8deb-4b3fc89a353c",
   "metadata": {},
   "source": [
    "## 6.2 make Prediction"
   ]
  },
  {
   "cell_type": "code",
   "execution_count": 231,
   "id": "2aa3676d-bd58-44ba-a4ec-73c0a111ffea",
   "metadata": {},
   "outputs": [],
   "source": [
    "#Get a batch of test data\n",
    "test_input, test_val, y_true = test_data.as_numpy_iterator().next()"
   ]
  },
  {
   "cell_type": "code",
   "execution_count": 233,
   "id": "cd1c9654-a019-451e-b020-6fd72fdfa2e9",
   "metadata": {},
   "outputs": [],
   "source": [
    "test_var = test_data.as_numpy_iterator().next()"
   ]
  },
  {
   "cell_type": "code",
   "execution_count": 235,
   "id": "8fadf0e4-633a-4891-a61f-b87b233f0028",
   "metadata": {},
   "outputs": [
    {
     "data": {
      "text/plain": [
       "3"
      ]
     },
     "execution_count": 235,
     "metadata": {},
     "output_type": "execute_result"
    }
   ],
   "source": [
    "len(test_var)"
   ]
  },
  {
   "cell_type": "code",
   "execution_count": 237,
   "id": "931f541e-5a7a-4db3-8a33-cd139069d0b9",
   "metadata": {},
   "outputs": [
    {
     "name": "stdout",
     "output_type": "stream",
     "text": [
      "\u001b[1m1/1\u001b[0m \u001b[32m━━━━━━━━━━━━━━━━━━━━\u001b[0m\u001b[37m\u001b[0m \u001b[1m2s\u001b[0m 2s/step\n"
     ]
    },
    {
     "data": {
      "text/plain": [
       "array([[3.2806243e-12],\n",
       "       [9.9883169e-01],\n",
       "       [7.5088101e-06],\n",
       "       [9.9986553e-01],\n",
       "       [1.0000000e+00],\n",
       "       [9.9977309e-01],\n",
       "       [4.3515023e-09],\n",
       "       [1.0000000e+00],\n",
       "       [1.0000000e+00],\n",
       "       [4.7121353e-06],\n",
       "       [1.4011501e-04],\n",
       "       [9.9994183e-01],\n",
       "       [1.7029747e-07],\n",
       "       [2.2731146e-13],\n",
       "       [9.9999994e-01],\n",
       "       [3.6011801e-11]], dtype=float32)"
      ]
     },
     "execution_count": 237,
     "metadata": {},
     "output_type": "execute_result"
    }
   ],
   "source": [
    "#Make prediction\n",
    "y_hat = siamese_model.predict([test_input, test_val])\n",
    "y_hat"
   ]
  },
  {
   "cell_type": "code",
   "execution_count": 239,
   "id": "a513deff-833f-479c-b539-e6d136afdfff",
   "metadata": {},
   "outputs": [
    {
     "data": {
      "text/plain": [
       "[0, 1, 0, 1, 1, 1, 0, 1, 1, 0, 0, 1, 0, 0, 1, 0]"
      ]
     },
     "execution_count": 239,
     "metadata": {},
     "output_type": "execute_result"
    }
   ],
   "source": [
    "#Post processing the result\n",
    "[1 if prediction > 0.5 else 0 for prediction in y_hat]"
   ]
  },
  {
   "cell_type": "code",
   "execution_count": 241,
   "id": "c3a7b4bb-370c-4aef-9e61-8ff0b729dced",
   "metadata": {},
   "outputs": [
    {
     "data": {
      "text/plain": [
       "array([0., 1., 0., 1., 1., 1., 0., 1., 1., 0., 0., 1., 0., 0., 1., 0.],\n",
       "      dtype=float32)"
      ]
     },
     "execution_count": 241,
     "metadata": {},
     "output_type": "execute_result"
    }
   ],
   "source": [
    "y_true"
   ]
  },
  {
   "cell_type": "markdown",
   "id": "823520f2-0b5e-4e9b-ad55-0de26f89e44a",
   "metadata": {},
   "source": [
    "## 6.3 Calculating metrics"
   ]
  },
  {
   "cell_type": "code",
   "execution_count": 243,
   "id": "dde8aab6-8d3a-463b-8fb5-a2bc6654218e",
   "metadata": {},
   "outputs": [
    {
     "data": {
      "text/plain": [
       "1.0"
      ]
     },
     "execution_count": 243,
     "metadata": {},
     "output_type": "execute_result"
    }
   ],
   "source": [
    "#creating a metric object\n",
    "m = Recall()\n",
    "\n",
    "#Calculating the recall value\n",
    "m.update_state(y_true, y_hat)\n",
    "\n",
    "#return result or recall \n",
    "m.result().numpy()"
   ]
  },
  {
   "cell_type": "code",
   "execution_count": 245,
   "id": "e58b7bca-49c3-47e5-8cf3-1f5bed4b4de2",
   "metadata": {},
   "outputs": [
    {
     "data": {
      "text/plain": [
       "1.0"
      ]
     },
     "execution_count": 245,
     "metadata": {},
     "output_type": "execute_result"
    }
   ],
   "source": [
    "#creating a metric object\n",
    "m = Precision()\n",
    "\n",
    "#Calculating the recall value\n",
    "m.update_state(y_true, y_hat)\n",
    "\n",
    "#return result or recall \n",
    "m.result().numpy()"
   ]
  },
  {
   "cell_type": "markdown",
   "id": "8531d54a-a17e-426f-a76e-00acdf3dda49",
   "metadata": {},
   "source": [
    "## 6.4 Viz Result"
   ]
  },
  {
   "cell_type": "code",
   "execution_count": 248,
   "id": "d9ca12be-9747-413d-8180-575fefcdf0c7",
   "metadata": {},
   "outputs": [
    {
     "data": {
      "image/png": "[encoded data removed]",
      "text/plain": [
       "<Figure size 1000x800 with 2 Axes>"
      ]
     },
     "metadata": {},
     "output_type": "display_data"
    }
   ],
   "source": [
    "#Set plot size\n",
    "plt.figure(figsize=(10, 8))\n",
    "\n",
    "#set first subplot (use for show image side by side - Grid format)\n",
    "plt.subplot(1, 2, 1)\n",
    "plt.imshow(test_input[2])\n",
    "\n",
    "#second subplot\n",
    "plt.subplot(1, 2, 2)\n",
    "plt.imshow(test_val[2])\n",
    "\n",
    "#renders image clearly\n",
    "plt.show()"
   ]
  },
  {
   "cell_type": "markdown",
   "id": "d7dfb89a-4ffb-41e8-aa83-85d9b59cc97d",
   "metadata": {},
   "source": [
    "## 7.Save model"
   ]
  },
  {
   "cell_type": "code",
   "execution_count": 190,
   "id": "2626fef1-9c08-4abb-8b78-60d1b348da65",
   "metadata": {},
   "outputs": [
    {
     "name": "stderr",
     "output_type": "stream",
     "text": [
      "WARNING:absl:You are saving your model as an HDF5 file via `model.save()` or `keras.saving.save_model(model)`. This file format is considered legacy. We recommend using instead the native Keras format, e.g. `model.save('my_model.keras')` or `keras.saving.save_model(model, 'my_model.keras')`. \n"
     ]
    }
   ],
   "source": [
    "#save weight\n",
    "siamese_model.save('siamesemodel.h5')"
   ]
  },
  {
   "cell_type": "code",
   "execution_count": 801,
   "id": "24e05e6d-aad8-407a-8981-9642ab3f0acc",
   "metadata": {},
   "outputs": [],
   "source": [
    "#save weight in keras format\n",
    "siamese_model.save('siamesemodel.keras')"
   ]
  },
  {
   "cell_type": "code",
   "execution_count": 303,
   "id": "cc899bef-ba98-4f62-b0db-248fabbef59f",
   "metadata": {},
   "outputs": [
    {
     "name": "stderr",
     "output_type": "stream",
     "text": [
      "WARNING:absl:No training configuration found in the save file, so the model was *not* compiled. Compile it manually.\n"
     ]
    }
   ],
   "source": [
    "#Reload model\n",
    "model = tf.keras.models.load_model('siamesemodel.h5', custom_objects={'L1Dist':L1Dist, 'BinaryCrossentropy':tf.losses.BinaryCrossentropy, 'binary_cross_loss': binary_cross_loss})"
   ]
  },
  {
   "cell_type": "code",
   "execution_count": 252,
   "id": "be854475-13e5-4160-aef6-d1e09c21f727",
   "metadata": {},
   "outputs": [
    {
     "name": "stdout",
     "output_type": "stream",
     "text": [
      "\u001b[1m1/1\u001b[0m \u001b[32m━━━━━━━━━━━━━━━━━━━━\u001b[0m\u001b[37m\u001b[0m \u001b[1m3s\u001b[0m 3s/step\n"
     ]
    },
    {
     "data": {
      "text/plain": [
       "array([[7.7407153e-10],\n",
       "       [9.5804715e-01],\n",
       "       [7.0479419e-04],\n",
       "       [9.9769723e-01],\n",
       "       [9.9997282e-01],\n",
       "       [9.9918574e-01],\n",
       "       [3.6065885e-08],\n",
       "       [9.9999684e-01],\n",
       "       [9.9999064e-01],\n",
       "       [5.0368104e-05],\n",
       "       [1.1812973e-06],\n",
       "       [9.9996901e-01],\n",
       "       [8.0067848e-06],\n",
       "       [5.7804583e-10],\n",
       "       [9.9999976e-01],\n",
       "       [1.2526567e-05]], dtype=float32)"
      ]
     },
     "execution_count": 252,
     "metadata": {},
     "output_type": "execute_result"
    }
   ],
   "source": [
    "#make predictions with reloaded model\n",
    "model.predict([test_input, test_val])"
   ]
  },
  {
   "cell_type": "code",
   "execution_count": 253,
   "id": "1c67deda-a198-45c9-a5b2-6df68834e4bd",
   "metadata": {},
   "outputs": [
    {
     "data": {
      "text/html": [
       "<pre style=\"white-space:pre;overflow-x:auto;line-height:normal;font-family:Menlo,'DejaVu Sans Mono',consolas,'Courier New',monospace\"><span style=\"font-weight: bold\">Model: \"SiameseNetwork\"</span>\n",
       "</pre>\n"
      ],
      "text/plain": [
       "\u001b[1mModel: \"SiameseNetwork\"\u001b[0m\n"
      ]
     },
     "metadata": {},
     "output_type": "display_data"
    },
    {
     "data": {
      "text/html": [
       "<pre style=\"white-space:pre;overflow-x:auto;line-height:normal;font-family:Menlo,'DejaVu Sans Mono',consolas,'Courier New',monospace\">┏━━━━━━━━━━━━━━━━━━━━━━━━━━━━━━━┳━━━━━━━━━━━━━━━━━━━━━━━━━━━┳━━━━━━━━━━━━━━━━━┳━━━━━━━━━━━━━━━━━━━━━━━━━━━━┓\n",
       "┃<span style=\"font-weight: bold\"> Layer (type)                  </span>┃<span style=\"font-weight: bold\"> Output Shape              </span>┃<span style=\"font-weight: bold\">         Param # </span>┃<span style=\"font-weight: bold\"> Connected to               </span>┃\n",
       "┡━━━━━━━━━━━━━━━━━━━━━━━━━━━━━━━╇━━━━━━━━━━━━━━━━━━━━━━━━━━━╇━━━━━━━━━━━━━━━━━╇━━━━━━━━━━━━━━━━━━━━━━━━━━━━┩\n",
       "│ input_img (<span style=\"color: #0087ff; text-decoration-color: #0087ff\">InputLayer</span>)        │ (<span style=\"color: #00d7ff; text-decoration-color: #00d7ff\">None</span>, <span style=\"color: #00af00; text-decoration-color: #00af00\">100</span>, <span style=\"color: #00af00; text-decoration-color: #00af00\">100</span>, <span style=\"color: #00af00; text-decoration-color: #00af00\">3</span>)       │               <span style=\"color: #00af00; text-decoration-color: #00af00\">0</span> │ -                          │\n",
       "├───────────────────────────────┼───────────────────────────┼─────────────────┼────────────────────────────┤\n",
       "│ validation_img (<span style=\"color: #0087ff; text-decoration-color: #0087ff\">InputLayer</span>)   │ (<span style=\"color: #00d7ff; text-decoration-color: #00d7ff\">None</span>, <span style=\"color: #00af00; text-decoration-color: #00af00\">100</span>, <span style=\"color: #00af00; text-decoration-color: #00af00\">100</span>, <span style=\"color: #00af00; text-decoration-color: #00af00\">3</span>)       │               <span style=\"color: #00af00; text-decoration-color: #00af00\">0</span> │ -                          │\n",
       "├───────────────────────────────┼───────────────────────────┼─────────────────┼────────────────────────────┤\n",
       "│ embedding (<span style=\"color: #0087ff; text-decoration-color: #0087ff\">Functional</span>)        │ (<span style=\"color: #00d7ff; text-decoration-color: #00d7ff\">None</span>, <span style=\"color: #00af00; text-decoration-color: #00af00\">4096</span>)              │      <span style=\"color: #00af00; text-decoration-color: #00af00\">38,960,448</span> │ input_img[<span style=\"color: #00af00; text-decoration-color: #00af00\">0</span>][<span style=\"color: #00af00; text-decoration-color: #00af00\">0</span>],           │\n",
       "│                               │                           │                 │ validation_img[<span style=\"color: #00af00; text-decoration-color: #00af00\">0</span>][<span style=\"color: #00af00; text-decoration-color: #00af00\">0</span>]       │\n",
       "├───────────────────────────────┼───────────────────────────┼─────────────────┼────────────────────────────┤\n",
       "│ l1_dist_2 (<span style=\"color: #0087ff; text-decoration-color: #0087ff\">L1Dist</span>)            │ (<span style=\"color: #00d7ff; text-decoration-color: #00d7ff\">None</span>, <span style=\"color: #00af00; text-decoration-color: #00af00\">4096</span>)              │               <span style=\"color: #00af00; text-decoration-color: #00af00\">0</span> │ embedding[<span style=\"color: #00af00; text-decoration-color: #00af00\">0</span>][<span style=\"color: #00af00; text-decoration-color: #00af00\">0</span>],           │\n",
       "│                               │                           │                 │ embedding[<span style=\"color: #00af00; text-decoration-color: #00af00\">1</span>][<span style=\"color: #00af00; text-decoration-color: #00af00\">0</span>]            │\n",
       "├───────────────────────────────┼───────────────────────────┼─────────────────┼────────────────────────────┤\n",
       "│ dense_3 (<span style=\"color: #0087ff; text-decoration-color: #0087ff\">Dense</span>)               │ (<span style=\"color: #00d7ff; text-decoration-color: #00d7ff\">None</span>, <span style=\"color: #00af00; text-decoration-color: #00af00\">1</span>)                 │           <span style=\"color: #00af00; text-decoration-color: #00af00\">4,097</span> │ l1_dist_2[<span style=\"color: #00af00; text-decoration-color: #00af00\">0</span>][<span style=\"color: #00af00; text-decoration-color: #00af00\">0</span>]            │\n",
       "└───────────────────────────────┴───────────────────────────┴─────────────────┴────────────────────────────┘\n",
       "</pre>\n"
      ],
      "text/plain": [
       "┏━━━━━━━━━━━━━━━━━━━━━━━━━━━━━━━┳━━━━━━━━━━━━━━━━━━━━━━━━━━━┳━━━━━━━━━━━━━━━━━┳━━━━━━━━━━━━━━━━━━━━━━━━━━━━┓\n",
       "┃\u001b[1m \u001b[0m\u001b[1mLayer (type)                 \u001b[0m\u001b[1m \u001b[0m┃\u001b[1m \u001b[0m\u001b[1mOutput Shape             \u001b[0m\u001b[1m \u001b[0m┃\u001b[1m \u001b[0m\u001b[1m        Param #\u001b[0m\u001b[1m \u001b[0m┃\u001b[1m \u001b[0m\u001b[1mConnected to              \u001b[0m\u001b[1m \u001b[0m┃\n",
       "┡━━━━━━━━━━━━━━━━━━━━━━━━━━━━━━━╇━━━━━━━━━━━━━━━━━━━━━━━━━━━╇━━━━━━━━━━━━━━━━━╇━━━━━━━━━━━━━━━━━━━━━━━━━━━━┩\n",
       "│ input_img (\u001b[38;5;33mInputLayer\u001b[0m)        │ (\u001b[38;5;45mNone\u001b[0m, \u001b[38;5;34m100\u001b[0m, \u001b[38;5;34m100\u001b[0m, \u001b[38;5;34m3\u001b[0m)       │               \u001b[38;5;34m0\u001b[0m │ -                          │\n",
       "├───────────────────────────────┼───────────────────────────┼─────────────────┼────────────────────────────┤\n",
       "│ validation_img (\u001b[38;5;33mInputLayer\u001b[0m)   │ (\u001b[38;5;45mNone\u001b[0m, \u001b[38;5;34m100\u001b[0m, \u001b[38;5;34m100\u001b[0m, \u001b[38;5;34m3\u001b[0m)       │               \u001b[38;5;34m0\u001b[0m │ -                          │\n",
       "├───────────────────────────────┼───────────────────────────┼─────────────────┼────────────────────────────┤\n",
       "│ embedding (\u001b[38;5;33mFunctional\u001b[0m)        │ (\u001b[38;5;45mNone\u001b[0m, \u001b[38;5;34m4096\u001b[0m)              │      \u001b[38;5;34m38,960,448\u001b[0m │ input_img[\u001b[38;5;34m0\u001b[0m][\u001b[38;5;34m0\u001b[0m],           │\n",
       "│                               │                           │                 │ validation_img[\u001b[38;5;34m0\u001b[0m][\u001b[38;5;34m0\u001b[0m]       │\n",
       "├───────────────────────────────┼───────────────────────────┼─────────────────┼────────────────────────────┤\n",
       "│ l1_dist_2 (\u001b[38;5;33mL1Dist\u001b[0m)            │ (\u001b[38;5;45mNone\u001b[0m, \u001b[38;5;34m4096\u001b[0m)              │               \u001b[38;5;34m0\u001b[0m │ embedding[\u001b[38;5;34m0\u001b[0m][\u001b[38;5;34m0\u001b[0m],           │\n",
       "│                               │                           │                 │ embedding[\u001b[38;5;34m1\u001b[0m][\u001b[38;5;34m0\u001b[0m]            │\n",
       "├───────────────────────────────┼───────────────────────────┼─────────────────┼────────────────────────────┤\n",
       "│ dense_3 (\u001b[38;5;33mDense\u001b[0m)               │ (\u001b[38;5;45mNone\u001b[0m, \u001b[38;5;34m1\u001b[0m)                 │           \u001b[38;5;34m4,097\u001b[0m │ l1_dist_2[\u001b[38;5;34m0\u001b[0m][\u001b[38;5;34m0\u001b[0m]            │\n",
       "└───────────────────────────────┴───────────────────────────┴─────────────────┴────────────────────────────┘\n"
      ]
     },
     "metadata": {},
     "output_type": "display_data"
    },
    {
     "data": {
      "text/html": [
       "<pre style=\"white-space:pre;overflow-x:auto;line-height:normal;font-family:Menlo,'DejaVu Sans Mono',consolas,'Courier New',monospace\"><span style=\"font-weight: bold\"> Total params: </span><span style=\"color: #00af00; text-decoration-color: #00af00\">38,964,545</span> (148.64 MB)\n",
       "</pre>\n"
      ],
      "text/plain": [
       "\u001b[1m Total params: \u001b[0m\u001b[38;5;34m38,964,545\u001b[0m (148.64 MB)\n"
      ]
     },
     "metadata": {},
     "output_type": "display_data"
    },
    {
     "data": {
      "text/html": [
       "<pre style=\"white-space:pre;overflow-x:auto;line-height:normal;font-family:Menlo,'DejaVu Sans Mono',consolas,'Courier New',monospace\"><span style=\"font-weight: bold\"> Trainable params: </span><span style=\"color: #00af00; text-decoration-color: #00af00\">38,964,545</span> (148.64 MB)\n",
       "</pre>\n"
      ],
      "text/plain": [
       "\u001b[1m Trainable params: \u001b[0m\u001b[38;5;34m38,964,545\u001b[0m (148.64 MB)\n"
      ]
     },
     "metadata": {},
     "output_type": "display_data"
    },
    {
     "data": {
      "text/html": [
       "<pre style=\"white-space:pre;overflow-x:auto;line-height:normal;font-family:Menlo,'DejaVu Sans Mono',consolas,'Courier New',monospace\"><span style=\"font-weight: bold\"> Non-trainable params: </span><span style=\"color: #00af00; text-decoration-color: #00af00\">0</span> (0.00 B)\n",
       "</pre>\n"
      ],
      "text/plain": [
       "\u001b[1m Non-trainable params: \u001b[0m\u001b[38;5;34m0\u001b[0m (0.00 B)\n"
      ]
     },
     "metadata": {},
     "output_type": "display_data"
    }
   ],
   "source": [
    "#View our model summery\n",
    "model.summary()"
   ]
  },
  {
   "cell_type": "markdown",
   "id": "fee70979-80ad-4763-b2e7-ee5ad561a713",
   "metadata": {},
   "source": [
    "## 8.Real time test"
   ]
  },
  {
   "cell_type": "markdown",
   "id": "5bb835a2-931d-421a-89b3-ace0833dab3c",
   "metadata": {},
   "source": [
    "## 8.1 Verification function"
   ]
  },
  {
   "cell_type": "markdown",
   "id": "392e94ca-8654-4c8e-b0f0-c94b4f582a20",
   "metadata": {},
   "source": [
    "\\application_data\\verification_images"
   ]
  },
  {
   "cell_type": "code",
   "execution_count": 258,
   "id": "65275954-3418-48b1-85cb-7675c4cc7b94",
   "metadata": {
    "collapsed": true,
    "jupyter": {
     "outputs_hidden": true
    },
    "scrolled": true
   },
   "outputs": [
    {
     "data": {
      "text/plain": [
       "['b8e55eef-567b-11f0-911f-8282fdfb3b56.jpg',\n",
       " 'b8f398dc-567b-11f0-8f55-8282fdfb3b56.jpg',\n",
       " 'b901f45d-567b-11f0-a48a-8282fdfb3b56.jpg',\n",
       " 'b90ff91f-567b-11f0-ba65-8282fdfb3b56.jpg',\n",
       " 'b91e8463-567b-11f0-8eb1-8282fdfb3b56.jpg',\n",
       " 'b925c6af-567b-11f0-ae4b-8282fdfb3b56.jpg',\n",
       " 'b941b63f-567b-11f0-9744-8282fdfb3b56.jpg',\n",
       " 'b95e3a9e-567b-11f0-b0d8-8282fdfb3b56.jpg',\n",
       " 'b98fdeb5-567b-11f0-a791-8282fdfb3b56.jpg',\n",
       " 'b99e3460-567b-11f0-9bb6-8282fdfb3b56.jpg',\n",
       " 'b9ac516a-567b-11f0-be61-8282fdfb3b56.jpg',\n",
       " 'b9c468a7-567b-11f0-832b-8282fdfb3b56.jpg',\n",
       " 'b9f89fa1-567b-11f0-a97c-8282fdfb3b56.jpg',\n",
       " 'b9ff9136-567b-11f0-8089-8282fdfb3b56.jpg',\n",
       " 'ba439ff1-567b-11f0-b2aa-8282fdfb3b56.jpg',\n",
       " 'bb0aeb2c-567b-11f0-af7b-8282fdfb3b56.jpg',\n",
       " 'bb2008d8-567b-11f0-9b70-8282fdfb3b56.jpg',\n",
       " 'bb4b6366-567b-11f0-83b0-8282fdfb3b56.jpg',\n",
       " 'bb71912c-567b-11f0-ba08-8282fdfb3b56.jpg',\n",
       " 'bc6ab07a-567b-11f0-948e-8282fdfb3b56.jpg',\n",
       " 'bcf27b06-567b-11f0-8b0e-8282fdfb3b56.jpg',\n",
       " 'bcf99de8-567b-11f0-80c8-8282fdfb3b56.jpg',\n",
       " 'bd24040f-567b-11f0-9364-8282fdfb3b56.jpg',\n",
       " 'bdcf58ee-567b-11f0-b9da-8282fdfb3b56.jpg',\n",
       " 'bdf07768-567b-11f0-95d7-8282fdfb3b56.jpg',\n",
       " 'be3a8485-567b-11f0-bf9e-8282fdfb3b56.jpg',\n",
       " 'bf02a363-567b-11f0-801b-8282fdfb3b56.jpg',\n",
       " 'bf10a007-567b-11f0-852d-8282fdfb3b56.jpg',\n",
       " 'bf8ee249-567b-11f0-8320-8282fdfb3b56.jpg',\n",
       " 'bfc09256-567b-11f0-af5f-8282fdfb3b56.jpg',\n",
       " 'c00eeef1-567b-11f0-a0f8-8282fdfb3b56.jpg',\n",
       " 'c16e08dc-567b-11f0-a59d-8282fdfb3b56.jpg',\n",
       " 'c1ba974a-567b-11f0-9d49-8282fdfb3b56.jpg',\n",
       " 'c2e904bd-567b-11f0-8e15-8282fdfb3b56.jpg',\n",
       " 'c2ff0ef7-567b-11f0-aa64-8282fdfb3b56.jpg',\n",
       " 'c31aab43-567b-11f0-beca-8282fdfb3b56.jpg',\n",
       " 'c338b64a-567b-11f0-8b55-8282fdfb3b56.jpg',\n",
       " 'c35aa1ed-567b-11f0-bfff-8282fdfb3b56.jpg',\n",
       " 'c3c121dd-567b-11f0-a767-8282fdfb3b56.jpg',\n",
       " 'c4f46f77-567b-11f0-8bad-8282fdfb3b56.jpg',\n",
       " 'c51101b8-567b-11f0-b9c7-8282fdfb3b56.jpg',\n",
       " 'c57c59ed-567b-11f0-89cd-8282fdfb3b56.jpg',\n",
       " 'c5b2ce93-567b-11f0-8b2d-8282fdfb3b56.jpg',\n",
       " 'c5dd1e62-567b-11f0-97d1-8282fdfb3b56.jpg',\n",
       " 'c63e385d-567b-11f0-8693-8282fdfb3b56.jpg',\n",
       " 'c6fc64a6-567b-11f0-bf0d-8282fdfb3b56.jpg',\n",
       " 'c73cfe17-567b-11f0-b619-8282fdfb3b56.jpg',\n",
       " 'cf38f132-567b-11f0-8ef6-8282fdfb3b56.jpg',\n",
       " 'cf7717ec-567b-11f0-a7a4-8282fdfb3b56.jpg',\n",
       " 'd0d6e41a-567b-11f0-ab2c-8282fdfb3b56.jpg']"
      ]
     },
     "execution_count": 258,
     "metadata": {},
     "output_type": "execute_result"
    }
   ],
   "source": [
    " os.listdir(os.path.join('application_data', 'verification_images'))"
   ]
  },
  {
   "cell_type": "code",
   "execution_count": 277,
   "id": "064fbd4a-02e6-4922-9214-47d8665332bb",
   "metadata": {},
   "outputs": [],
   "source": [
    "def verify(model, detection_threshold, verification_threshold):\n",
    "    #Build result array\n",
    "    results = []\n",
    "    for image in os.listdir(os.path.join('application_data', 'verification_images')):\n",
    "        input_img = preprocess(os.path.join('application_data', 'input_image', 'input_image.jpg'))\n",
    "        validation_img = preprocess(os.path.join('application_data', 'verification_images', image))\n",
    "        \n",
    "        #Make predictions\n",
    "        result = model.predict(list(np.expand_dims([input_img, validation_img], axis=1)))\n",
    "        results.append(result)\n",
    "\n",
    "    #Detection Threshold: Metric above which a prediction is considered positive\n",
    "    detection = np.sum(np.array(results) > detection_threshold)\n",
    "    #Verification threshold: Proportion of positive prediction / total positive samples\n",
    "    verification = detection / len(os.listdir(os.path.join('application_data', 'verification_images')))\n",
    "    verified = verification > verification_threshold\n",
    "\n",
    "    return results, verified"
   ]
  },
  {
   "cell_type": "code",
   "execution_count": 284,
   "id": "b00ff050-932a-41cf-9aa4-e09c47a74038",
   "metadata": {},
   "outputs": [],
   "source": [
    "def verify(model, detection_threshold, verification_threshold):\n",
    "    # collect all the individual prediction scores here\n",
    "    results = []\n",
    "    verification_dir = os.path.join('application_data', 'verification_images')\n",
    "    input_path      = os.path.join('application_data', 'input_image', 'input_image.jpg')\n",
    "\n",
    "    # preprocess your “anchor” once\n",
    "    input_img = preprocess(input_path)\n",
    "    # expand dims to make it a batch of 1\n",
    "    input_batch = np.expand_dims(input_img, axis=0)\n",
    "\n",
    "    for file in os.listdir(verification_dir):\n",
    "        val_img = preprocess(os.path.join(verification_dir, file))\n",
    "        val_batch = np.expand_dims(val_img, axis=0)\n",
    "\n",
    "        # predict returns e.g. array([[0.37]], ...) for a batch of 1\n",
    "        # verbose=0 silences the per‑call progress bar\n",
    "        score = model.predict(\n",
    "            [input_batch, val_batch],\n",
    "            verbose=0\n",
    "        )\n",
    "        # extract the scalar out of shape (1,1)\n",
    "        results.append(float(score[0][0]))\n",
    "\n",
    "    # now count how many are above detection_threshold\n",
    "    detections = np.sum(np.array(results) > detection_threshold)\n",
    "    # fraction of positives\n",
    "    verification = detections / len(results)\n",
    "    verified = verification > verification_threshold\n",
    "\n",
    "    return results, verified"
   ]
  },
  {
   "cell_type": "markdown",
   "id": "d3e0ac6e-d8b8-43e6-9317-e4b9db38440e",
   "metadata": {},
   "source": [
    "## 8.2 OpenCV real time verification"
   ]
  },
  {
   "cell_type": "code",
   "execution_count": 347,
   "id": "127dd37a-d2b4-434d-97d0-21bef7d9dd06",
   "metadata": {},
   "outputs": [
    {
     "name": "stdout",
     "output_type": "stream",
     "text": [
      "False\n",
      "False\n"
     ]
    }
   ],
   "source": [
    "cap = cv2.VideoCapture(0)\n",
    "while cap.isOpened():\n",
    "    ret, frame = cap.read()\n",
    "\n",
    "    frame = frame[120:120+250,200:200+250,:]\n",
    "\n",
    "    cv2.imshow('Verification', frame)\n",
    "\n",
    "    #Verification trigger\n",
    "    if cv2.waitKey(10) & 0xFF == ord('v'):\n",
    "        #save input image to application_data/input_image folder\n",
    "        cv2.imwrite(os.path.join('application_data', 'input_image', 'input_image.jpg'), frame)\n",
    "        #run verification\n",
    "        results, verified = verify(model, 0.8, 0.6)\n",
    "        print(verified)\n",
    "\n",
    "    if cv2.waitKey(10) & 0xFF == ord('q'):\n",
    "        break\n",
    "cap.release()\n",
    "cv2.destroyAllWindows()"
   ]
  },
  {
   "cell_type": "code",
   "execution_count": 345,
   "id": "2cdc3cf0-fdf4-453e-8572-c272ac59023b",
   "metadata": {
    "jupyter": {
     "source_hidden": true
    }
   },
   "outputs": [],
   "source": [
    "DETECTION_THRESHOLD    = 0.8\n",
    "VERIFICATION_THRESHOLD = 0.6\n",
    "FONT                   = cv2.FONT_HERSHEY_SIMPLEX\n",
    "\n",
    "cap = cv2.VideoCapture(0)\n",
    "\n",
    "# For FPS calculation\n",
    "prev_tick = cv2.getTickCount()\n",
    "\n",
    "# To store the latest verification result and percentage\n",
    "status_text  = None\n",
    "status_color = (0, 0, 0)\n",
    "\n",
    "while cap.isOpened():\n",
    "    ret, frame = cap.read()\n",
    "    if not ret:\n",
    "        break\n",
    "\n",
    "    # Crop to your ROI\n",
    "    frame = frame[120:120+250, 200:200+250, :]\n",
    "\n",
    "    # ─── Compute & draw FPS ────────────────────────────────────────────────────\n",
    "    cur_tick = cv2.getTickCount()\n",
    "    fps      = cv2.getTickFrequency() / (cur_tick - prev_tick)\n",
    "    prev_tick = cur_tick\n",
    "    cv2.putText(frame,\n",
    "                f\"{int(fps)} FPS\",\n",
    "                (10, 25),\n",
    "                FONT,\n",
    "                0.7,\n",
    "                (0, 255, 0),\n",
    "                2,\n",
    "                cv2.LINE_AA)\n",
    "\n",
    "    # ─── Draw last verification result (if any) ───────────────────────────────\n",
    "    if status_text:\n",
    "        h, w = frame.shape[:2]\n",
    "        # semi‑transparent banner\n",
    "        overlay = frame.copy()\n",
    "        cv2.rectangle(overlay, (0, 0), (w, 40), status_color, -1)\n",
    "        frame = cv2.addWeighted(overlay, 0.4, frame, 0.6, 0)\n",
    "        # text\n",
    "        cv2.putText(frame,\n",
    "                    status_text,\n",
    "                    (10, 30),\n",
    "                    FONT,\n",
    "                    0.8,\n",
    "                    (255, 255, 255),\n",
    "                    2,\n",
    "                    cv2.LINE_AA)\n",
    "\n",
    "    # ─── Show live feed ───────────────────────────────────────────────────────\n",
    "    cv2.imshow('Verification', frame)\n",
    "\n",
    "    key = cv2.waitKey(10) & 0xFF\n",
    "\n",
    "    # ─── When user presses 'v', run verification ─────────────────────────────\n",
    "    if key == ord('v'):\n",
    "        # save the current ROI as the input image\n",
    "        inp_path = os.path.join('application_data', 'input_image', 'input_image.jpg')\n",
    "        cv2.imwrite(inp_path, frame)\n",
    "\n",
    "        # run your verify() function\n",
    "        results, verified = verify(model, DETECTION_THRESHOLD, VERIFICATION_THRESHOLD)\n",
    "\n",
    "        # compute average similarity percentage\n",
    "        avg_pct = int(np.mean(results) * 100)\n",
    "\n",
    "        # prepare status\n",
    "        if verified:\n",
    "            status_text  = f\"{avg_pct}% VERIFIED\"\n",
    "            status_color = (0, 255, 0)\n",
    "        else:\n",
    "            status_text  = f\"{avg_pct}% UNVERIFIED\"\n",
    "            status_color = (0, 0, 255)\n",
    "\n",
    "    # ─── Quit on 'q' ──────────────────────────────────────────────────────────\n",
    "    elif key == ord('q'):\n",
    "        break\n",
    "\n",
    "cap.release()\n",
    "cv2.destroyAllWindows()"
   ]
  },
  {
   "cell_type": "code",
   "execution_count": 299,
   "id": "5700e197-c9cf-4522-b75e-d81333b4de8c",
   "metadata": {},
   "outputs": [
    {
     "data": {
      "text/plain": [
       "array([ True,  True,  True,  True,  True,  True,  True,  True,  True,\n",
       "        True,  True,  True,  True,  True,  True, False,  True,  True,\n",
       "        True, False,  True,  True,  True,  True,  True,  True,  True,\n",
       "        True,  True,  True,  True,  True, False,  True,  True,  True,\n",
       "        True,  True,  True,  True,  True,  True,  True,  True,  True,\n",
       "        True,  True,  True,  True,  True])"
      ]
     },
     "execution_count": 299,
     "metadata": {},
     "output_type": "execute_result"
    }
   ],
   "source": [
    "np.squeeze(results) > 0.5"
   ]
  },
  {
   "cell_type": "code",
   "execution_count": 301,
   "id": "5958bf3d-a25e-4d03-a091-c90cb09e01f1",
   "metadata": {},
   "outputs": [
    {
     "data": {
      "text/plain": [
       "47"
      ]
     },
     "execution_count": 301,
     "metadata": {},
     "output_type": "execute_result"
    }
   ],
   "source": [
    "np.sum(np.squeeze(results) > 0.5)"
   ]
  },
  {
   "cell_type": "code",
   "execution_count": 339,
   "id": "b15667c9-792f-440e-993a-57587f4ee065",
   "metadata": {},
   "outputs": [],
   "source": [
    "cap.release()\n",
    "cv2.destroyAllWindows()"
   ]
  }
 ],
 "metadata": {
  "kernelspec": {
   "display_name": "Python [conda env:base] *",
   "language": "python",
   "name": "conda-base-py"
  },
  "language_info": {
   "codemirror_mode": {
    "name": "ipython",
    "version": 3
   },
   "file_extension": ".py",
   "mimetype": "text/x-python",
   "name": "python",
   "nbconvert_exporter": "python",
   "pygments_lexer": "ipython3",
   "version": "3.12.3"
  }
 },
 "nbformat": 4,
 "nbformat_minor": 5
}
